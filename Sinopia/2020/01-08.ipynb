{
 "cells": [
  {
   "cell_type": "markdown",
   "metadata": {},
   "source": [
    "# BF2MARC \n",
    "## January 8th 2020"
   ]
  },
  {
   "cell_type": "code",
   "execution_count": 17,
   "metadata": {},
   "outputs": [],
   "source": [
    "import rdflib\n",
    "import sys\n",
    "from lxml import etree\n",
    "sys.path.append(\"../src/sinopia/\")\n",
    "import xml_helpers"
   ]
  },
  {
   "cell_type": "code",
   "execution_count": 2,
   "metadata": {},
   "outputs": [],
   "source": [
    "bf2marc_xsl = xml_helpers.get_xslt('../src/xslt/bibframe2marc.xsl')\n",
    "raven_black_instance_url = \"https://trellis.stage.sinopia.io/repository/stanford/c5a0af75-3d77-4c0e-8532-21f025117e0a\"\n",
    "raven_black_work_url = \"https://trellis.stage.sinopia.io/repository/stanford/3ca6943f-cfc3-4663-9785-a4630cbaa96c\""
   ]
  },
  {
   "cell_type": "code",
   "execution_count": 3,
   "metadata": {},
   "outputs": [
    {
     "data": {
      "text/plain": [
       "<Graph identifier=Ne85a87d8561d40c2b4f9dbe0b1938536 (<class 'rdflib.graph.Graph'>)>"
      ]
     },
     "execution_count": 3,
     "metadata": {},
     "output_type": "execute_result"
    }
   ],
   "source": [
    "loc_graph = xml_helpers.rdflib.Graph()\n",
    "xml_helpers.init_ns(loc_graph)\n",
    "loc_graph.parse(data=\"\"\"@prefix bf: <http://id.loc.gov/ontologies/bibframe/>.\n",
    "@prefix bflc: <http://id.loc.gov/ontologies/bflc/>.\n",
    "@prefix madsrdf: <http://www.loc.gov/mads/rdf/v1#>.\n",
    "@prefix pmo: <http://performedmusicontology.org/ontology/>.\n",
    "@prefix rdf: <http://www.w3.org/1999/02/22-rdf-syntax-ns#>.\n",
    "@prefix rdfs: <http://www.w3.org/2000/01/rdf-schema#>.\n",
    "@prefix xsd: <http://www.w3.org/2001/XMLSchema#>.\n",
    "@prefix datatypes: <http://id.loc.gov/datatypes/>.\n",
    "@prefix lclocal: <http://id.loc.gov/ontologies/lclocal/>.\n",
    "\n",
    "<http://bibframe.org/resources/e154856253071356393291392998559023961500> a bf:Local;\n",
    "    rdf:value \"e154856253071356393291392998559023961500\".\n",
    "<http://id.loc.gov/authorities/genreForms/gf2014026280> a bf:GenreForm;\n",
    "    rdfs:label \"Detective and mystery fiction\"@en.\n",
    "<http://id.loc.gov/authorities/names/n81097141> a bf:Topic;\n",
    "    rdfs:label \"Shetland (Scotland)\"@en.\n",
    "<http://id.loc.gov/authorities/names/n82068148> a bf:Place;\n",
    "    rdfs:label \"England\"@en.\n",
    "<http://id.loc.gov/authorities/names/n85039474> a bf:Person;\n",
    "    rdfs:label \"Cleeves, Ann\"@en.\n",
    "<http://id.loc.gov/authorities/names/nb2016001094> a bf:Person;\n",
    "    rdfs:label \"Poirot, Hercule (Fictitious character)\"@en.\n",
    "<http://id.loc.gov/entities/providers/74e655581a038ce4b7b8a939b17f7cce> a bf:Agent;\n",
    "    rdfs:label \"Macmillan\"@en.\n",
    "<http://id.loc.gov/resources/works/e257105180164916639270642830301101060152> a bf:Work;\n",
    "    bf:adminMetadata _:b6_b0;\n",
    "    bf:classification _:b6_b1;\n",
    "    bf:content <http://id.loc.gov/vocabulary/contentTypes/txt>;\n",
    "    bf:contribution _:b6_b3, _:b6_b2;\n",
    "    bf:genreForm <http://id.loc.gov/authorities/genreForms/gf2014026280>;\n",
    "    bf:hasInstance _:b6_b4;\n",
    "    bf:language _:b6_b5;\n",
    "    bf:originPlace <http://id.loc.gov/authorities/names/n82068148>;\n",
    "    bf:subject <http://id.loc.gov/authorities/names/n81097141>;\n",
    "    bf:summary _:b6_b6;\n",
    "    bf:title _:b6_b7.\n",
    "_:b6_b0 a bf:AdminMetadata;\n",
    "    bflc:procInfo \"create work\";\n",
    "    bflc:profile \"lc:RT:bf2:Monograph:Work\";\n",
    "    bf:changeDate \"2020-01-06T23:49:35\";\n",
    "    bf:creationDate \"2020-01-06\";\n",
    "    bf:descriptionAuthentication <http://id.loc.gov/vocabulary/marcauthen/pcc>;\n",
    "    bf:descriptionConventions <http://id.loc.gov/vocabulary/descriptionConventions/rda>;\n",
    "    bf:descriptionLanguage <http://id.loc.gov/vocabulary/languages/eng>;\n",
    "    bf:descriptionModifier <http://id.loc.gov/vocabulary/organizations/dlc>;\n",
    "    bf:identifiedBy <http://bibframe.org/resources/e154856253071356393291392998559023961500>.\n",
    "_:b6_b1 a bf:ClassificationLcc;\n",
    "    bf:classificationPortion \"PR6053.L45\";\n",
    "    bf:itemPortion \"R38 2006\".\n",
    "<http://id.loc.gov/vocabulary/contentTypes/txt> a bf:Content;\n",
    "    rdfs:label \"text\".\n",
    "_:b6_b2 a bflc:PrimaryContribution;\n",
    "    bf:agent <http://id.loc.gov/authorities/names/n85039474>;\n",
    "    bf:role <http://id.loc.gov/vocabulary/relators/aut>.\n",
    "_:b6_b3 a bf:Contribution;\n",
    "    bf:agent <http://id.loc.gov/authorities/names/nb2016001094>.\n",
    "_:b6_b4 a bf:Instance;\n",
    "    bf:adminMetadata _:b6_b8;\n",
    "    bf:title _:b6_b11;\n",
    "    bf:carrier <http://id.loc.gov/vocabulary/carriers/nc>;\n",
    "    bf:dimensions \"22 cm\";\n",
    "    bf:extent _:b6_b9;\n",
    "    bf:issuance <http://id.loc.gov/vocabulary/issuance/mono>;\n",
    "    bf:media <http://id.loc.gov/vocabulary/mediaTypes/n>;\n",
    "    bf:provisionActivity _:b6_b10;\n",
    "    bf:provisionActivityStatement \"London : Macmillan\";\n",
    "    bf:responsibilityStatement \"Ann Cleeves\".\n",
    "_:b6_b5 a bf:Language;\n",
    "    bf:Language <http://id.loc.gov/vocabulary/languages/eng>.\n",
    "_:b6_b6 a bf:Summary;\n",
    "    rdfs:label \"It is a cold January morning and Shetland lies beneath a deep layer of snow. Trudging home, Fran Hunter's eye is drawn to a splash of colour on the frozen gorund, ravens circling above. It is the strangled body of her teenage neighbour, Catherine Ross. While Catherine lies in the snow, Shetland police patiently await the arrival of the murder squad from the Scottish mainland. Meanwhile news of her death filters quickly through the quiet islands. It seems that the locals are stubbornly focusing their gaze on one man - loner and simpleton, Magnus Tait. However, Catherine's startling and vicious demise has thrown a veil of suspicion over everyone who knew her; and detective Jimmy Perez is detemined to keep the investigation open and the rumours at bay. Soon the Inverness and Shetland police are infiltrating the peaceful community and residents are looking at each other with unnatural suspicion and fear, nervously locking their doors for the first time in years. Meanhile Catherine's killer lives on in their midst ...\".\n",
    "_:b6_b7 a bf:Title;\n",
    "    rdfs:label \"Raven black\";\n",
    "    bf:mainTitle \"Raven black\".\n",
    "<http://id.loc.gov/vocabulary/carriers/nc> a bf:Carrier;\n",
    "    rdfs:label \"volume\".\n",
    "<http://id.loc.gov/vocabulary/countries/enk> a bf:Place;\n",
    "    rdfs:label \"England\"@en.\n",
    "<http://id.loc.gov/vocabulary/descriptionConventions/rda> a bf:DescriptionConventions;\n",
    "    rdfs:label \"rda\", \"RDA\".\n",
    "<http://id.loc.gov/vocabulary/issuance/mono> a bf:Issuance;\n",
    "    rdfs:label \"single unit\".\n",
    "<http://id.loc.gov/vocabulary/languages/eng> a bf:Language;\n",
    "    rdfs:label \"eng\"@en, \"English\".\n",
    "<http://id.loc.gov/vocabulary/marcauthen/pcc> a bf:DescriptionAuthentication;\n",
    "    rdfs:label \"pcc\".\n",
    "<http://id.loc.gov/vocabulary/mediaTypes/n> a bf:Media;\n",
    "    rdfs:label \"unmediated\".\n",
    "<http://id.loc.gov/vocabulary/organizations/dlc> a bf:DescriptionModifier, bf:Agent;\n",
    "    rdfs:label \"dlc\", \"DLC\".\n",
    "<http://id.loc.gov/vocabulary/relators/aut> a bf:Role;\n",
    "    rdfs:label \"Author\"@en.\n",
    "_:b6_b10 a bf:Publication;\n",
    "    bf:agent <http://id.loc.gov/entities/providers/74e655581a038ce4b7b8a939b17f7cce>;\n",
    "    bf:date \"2006\";\n",
    "    bf:place <http://id.loc.gov/vocabulary/countries/enk>.\n",
    "_:b6_b11 a bf:Title;\n",
    "    bf:mainTitle \"Raven black\".\n",
    "_:b6_b8 a bf:AdminMetadata;\n",
    "    bf:creationDate \"01-06-2020\";\n",
    "    bf:descriptionAuthentication <http://id.loc.gov/vocabulary/marcauthen/pcc>;\n",
    "    bf:descriptionConventions <http://id.loc.gov/vocabulary/descriptionConventions/rda>;\n",
    "    bf:descriptionLanguage <http://id.loc.gov/vocabulary/languages/eng>;\n",
    "    bf:descriptionModifier <http://id.loc.gov/vocabulary/organizations/dlc>;\n",
    "    bflc:catalogerId \"NancyL\".\n",
    "_:b6_b9 a bf:Extent;\n",
    "    rdfs:label \"375 pages\".\n",
    "\"\"\", format='turtle')"
   ]
  },
  {
   "cell_type": "code",
   "execution_count": 4,
   "metadata": {},
   "outputs": [],
   "source": [
    "loc_xml = xml_helpers.nestedInstance(loc_graph)"
   ]
  },
  {
   "cell_type": "code",
   "execution_count": 5,
   "metadata": {},
   "outputs": [],
   "source": [
    "loc_marc = bf2marc_xsl(loc_xml)"
   ]
  },
  {
   "cell_type": "code",
   "execution_count": 6,
   "metadata": {},
   "outputs": [
    {
     "data": {
      "text/plain": [
       "<lxml.etree._XSLTResultTree at 0x106cea4c0>"
      ]
     },
     "execution_count": 6,
     "metadata": {},
     "output_type": "execute_result"
    }
   ],
   "source": [
    "loc_marc"
   ]
  },
  {
   "cell_type": "code",
   "execution_count": 7,
   "metadata": {},
   "outputs": [],
   "source": [
    "loc_marc21 = xml_helpers.marcXMLto21(loc_marc)"
   ]
  },
  {
   "cell_type": "code",
   "execution_count": 8,
   "metadata": {},
   "outputs": [
    {
     "name": "stdout",
     "output_type": "stream",
     "text": [
      "=LDR       nam a22     uu 4500\n",
      "=001  idm501524156960\n",
      "=003  DLC\n",
      "=008  700101|||||||||xx\\\\\\\\\\\\\\\\\\\\\\\\|||\\|\\\\\\\\\\|\n",
      "=042  \\\\$apcc\n",
      "=050  \\0$aPR6053.L45$bR38 2006\n",
      "=245  10$aRaven black$cAnn Cleeves\n",
      "=264  \\1$c2006\n",
      "=300  \\\\$a375 pages$c22 cm\n",
      "=336  \\\\$atext$0http://id.loc.gov/vocabulary/contentTypes/txt\n",
      "=370  \\\\$gEngland$0http://id.loc.gov/authorities/names/n82068148\n",
      "=520  \\\\$aIt is a cold January morning and Shetland lies beneath a deep layer of snow. Trudging home, Fran Hunter's eye is drawn to a splash of colour on the frozen gorund, ravens circling above. It is the strangled body of her teenage neighbour, Catherine Ross. While Catherine lies in the snow, Shetland police patiently await the arrival of the murder squad from the Scottish mainland. Meanwhile news of her death filters quickly through the quiet islands. It seems that the locals are stubbornly focusing their gaze on one man - loner and simpleton, Magnus Tait. However, Catherine's startling and vicious demise has thrown a veil of suspicion over everyone who knew her; and detective Jimmy Perez is detemined to keep the investigation open and the rumours at bay. Soon the Inverness and Shetland police are infiltrating the peaceful community and residents are looking at each other with unnatural suspicion and fear, nervously locking their doors for the first time in years. Meanhile Catherine's killer lives on in their midst ...\n",
      "=653  \\0$aShetland (Scotland)\n",
      "=655  \\7$aDetective and mystery fiction$0http://id.loc.gov/authorities/genreForms/gf2014026280$2lcgft\n",
      "=720  \\\\\n",
      "=884  \\\\$aDLC bibframe2marc-xsl v0.1.0-SNAPSHOT$g20200108130409.0$qDLC$uhttps://github.com/lcnetdev/bibframe2marc-xsl\n",
      "\n"
     ]
    }
   ],
   "source": [
    "print(loc_marc21)"
   ]
  },
  {
   "cell_type": "markdown",
   "metadata": {},
   "source": [
    "## Sinopia Unnested Work and Instance"
   ]
  },
  {
   "cell_type": "code",
   "execution_count": 9,
   "metadata": {},
   "outputs": [],
   "source": [
    "sinopia_xml = xml_helpers.unnestedXML(raven_black_instance_url, raven_black_work_url)"
   ]
  },
  {
   "cell_type": "code",
   "execution_count": 10,
   "metadata": {},
   "outputs": [],
   "source": [
    "sinopia_marc_xml = bf2marc_xsl(sinopia_xml)\n",
    "sinopia_marc21 = xml_helpers.marcXMLto21(sinopia_marc_xml)"
   ]
  },
  {
   "cell_type": "code",
   "execution_count": 11,
   "metadata": {},
   "outputs": [
    {
     "name": "stdout",
     "output_type": "stream",
     "text": [
      "=LDR       nam a22     uu 4500\n",
      "=001  idm501490515584\n",
      "=003  DLC\n",
      "=008  700101|||||||||xx\\\\\\\\\\\\\\\\\\\\\\\\|||\\|\\eng\\|\n",
      "=020  \\\\$a9781405054720$qhdbk.\n",
      "=050  \\0$aPR6053.L45$bR38 2006\n",
      "=100  1\\$4http://id.loc.gov/vocabulary/relators/aut\n",
      "=245  10$aRaven black$cAnn Cleeves\n",
      "=264  \\1$c2006\n",
      "=300  \\\\$a375 pages$c22 cm\n",
      "=520  \\\\$aIt is a cold January morning and Shetland lies beneath a deep layer of snow. Trudging home, Fran Hunter's eye is drawn to a splash of colour on the frozen ground, ravens circling above. It is the strangled body of her teenage neighbour, Catherine Ross. While Catherine lies in the snow, Shetland police patiently await the arrival of the murder squad from the Scottish mainland. Meanwhile news of her death filters quickly through the quiet islands. It seems that the locals are stubbornly focusing their gaze on one man - loner and simpleton, Magnus Tait. However, Catherine's startling and vicious demise has thrown a veil of suspicion over everyone who knew her; and detective Jimmy Perez is determined to keep the investigation open and the rumours at bay. Soon the Inverness and Shetland police are infiltrating the peaceful community and residents are looking at each other with unnatural suspicion and fear, nervously locking their doors for the first time in years. Meanwhile Catherine's killer lives on in their midst ...\n",
      "=653  \\\\$aShetland (Scotland)\n",
      "=655  \\7$aDetective and mystery fiction$0http://id.loc.gov/authorities/genreForms/gf2014026280$2lcgft\n",
      "=700  1\\\n",
      "=884  \\\\$aDLC bibframe2marc-xsl v0.1.0-SNAPSHOT$g20200108130410.0$qDLC$uhttps://github.com/lcnetdev/bibframe2marc-xsl\n",
      "\n"
     ]
    }
   ],
   "source": [
    "print(sinopia_marc21)"
   ]
  },
  {
   "cell_type": "code",
   "execution_count": 12,
   "metadata": {},
   "outputs": [
    {
     "name": "stdout",
     "output_type": "stream",
     "text": [
      "Comparision of LOC vs. Sinopia\n",
      "001 in both\n",
      "003 in both\n",
      "008 in both\n",
      "042 in LOC but not Sinopia\n",
      "050 in both\n",
      "245 in both\n",
      "264 in both\n",
      "300 in both\n",
      "336 in LOC but not Sinopia\n",
      "370 in LOC but not Sinopia\n",
      "520 in both\n",
      "653 in both\n",
      "655 in both\n",
      "720 in LOC but not Sinopia\n",
      "884 in both\n"
     ]
    }
   ],
   "source": [
    "print(\"Comparision of LOC vs. Sinopia\")\n",
    "for field in loc_marc21.get_fields():\n",
    "    sinopia_field = sinopia_marc21.get_fields(field.tag)\n",
    "    if len(sinopia_field) < 1:\n",
    "        print(f\"{field.tag} in LOC but not Sinopia\")\n",
    "    else:\n",
    "        print(f\"{field.tag} in both\")"
   ]
  },
  {
   "cell_type": "code",
   "execution_count": 13,
   "metadata": {},
   "outputs": [
    {
     "name": "stdout",
     "output_type": "stream",
     "text": [
      "Comparision of Sinopia vs. LOC\n",
      "001 in both\n",
      "003 in both\n",
      "008 in both\n",
      "020 in Sinopia but not in LOC\n",
      "050 in both\n",
      "100 in Sinopia but not in LOC\n",
      "245 in both\n",
      "264 in both\n",
      "300 in both\n",
      "520 in both\n",
      "653 in both\n",
      "655 in both\n",
      "700 in Sinopia but not in LOC\n",
      "884 in both\n"
     ]
    }
   ],
   "source": [
    "print(\"Comparision of Sinopia vs. LOC\")\n",
    "for field in sinopia_marc21.get_fields():\n",
    "    loc_field = loc_marc21.get_fields(field.tag)\n",
    "    if len(loc_field) < 1:\n",
    "        print(f\"{field.tag} in Sinopia but not in LOC\")\n",
    "    else:\n",
    "        print(f\"{field.tag} in both\")"
   ]
  },
  {
   "cell_type": "code",
   "execution_count": 14,
   "metadata": {},
   "outputs": [],
   "source": [
    "with open(\"../data/xml/raven-black.xml\") as fo:\n",
    "    loc2_xml = fo.read())"
   ]
  },
  {
   "cell_type": "code",
   "execution_count": 18,
   "metadata": {},
   "outputs": [
    {
     "data": {
      "text/plain": [
       "<Graph identifier=Ne7991f62677a498ba4dccd4eb1980720 (<class 'rdflib.graph.Graph'>)>"
      ]
     },
     "execution_count": 18,
     "metadata": {},
     "output_type": "execute_result"
    }
   ],
   "source": [
    "loc2_graph = rdflib.Graph()\n",
    "loc2_graph.parse(\"../data/xml/raven-black.xml\", format='xml')"
   ]
  },
  {
   "cell_type": "code",
   "execution_count": 19,
   "metadata": {},
   "outputs": [],
   "source": [
    "loc2_xml = xml_helpers.nestedInstance(loc2_graph)"
   ]
  },
  {
   "cell_type": "code",
   "execution_count": 20,
   "metadata": {},
   "outputs": [],
   "source": [
    "loc2_marc_xml = bf2marc_xsl(loc2_xml)"
   ]
  },
  {
   "cell_type": "code",
   "execution_count": 21,
   "metadata": {},
   "outputs": [
    {
     "name": "stdout",
     "output_type": "stream",
     "text": [
      "=LDR       nam a22     uu 4500\n",
      "=001  idm501489149152\n",
      "=003  DLC\n",
      "=008  700101|||||||||xx\\\\\\\\\\\\\\\\\\\\\\\\|||\\|\\\\\\\\\\|\n",
      "=042  \\\\$apcc\n",
      "=050  \\0$aPR6053.L45$bR38 2006\n",
      "=245  10$aRaven black$cAnn Cleeves\n",
      "=264  \\1$c2006\n",
      "=300  \\\\$a375 pages$c22 cm\n",
      "=336  \\\\$atext$0http://id.loc.gov/vocabulary/contentTypes/txt\n",
      "=370  \\\\$gEngland$0http://id.loc.gov/authorities/names/n82068148\n",
      "=520  \\\\$aIt is a cold January morning and Shetland lies beneath a deep layer of snow. Trudging home, Fran Hunter's eye is drawn to a splash of colour on the frozen gorund, ravens circling above. It is the strangled body of her teenage neighbour, Catherine Ross. While Catherine lies in the snow, Shetland police patiently await the arrival of the murder squad from the Scottish mainland. Meanwhile news of her death filters quickly through the quiet islands. It seems that the locals are stubbornly focusing their gaze on one man - loner and simpleton, Magnus Tait. However, Catherine's startling and vicious demise has thrown a veil of suspicion over everyone who knew her; and detective Jimmy Perez is detemined to keep the investigation open and the rumours at bay. Soon the Inverness and Shetland police are infiltrating the peaceful community and residents are looking at each other with unnatural suspicion and fear, nervously locking their doors for the first time in years. Meanhile Catherine's killer lives on in their midst ...\n",
      "=653  \\0$aShetland (Scotland)\n",
      "=655  \\7$aDetective and mystery fiction$0http://id.loc.gov/authorities/genreForms/gf2014026280$2lcgft\n",
      "=720  \\\\\n",
      "=884  \\\\$aDLC bibframe2marc-xsl v0.1.0-SNAPSHOT$g20200108131044.0$qDLC$uhttps://github.com/lcnetdev/bibframe2marc-xsl\n",
      "\n"
     ]
    }
   ],
   "source": [
    "loc2_marc21 = xml_helpers.marcXMLto21(loc2_marc_xml)\n",
    "print(loc2_marc21)"
   ]
  },
  {
   "cell_type": "code",
   "execution_count": null,
   "metadata": {},
   "outputs": [],
   "source": []
  }
 ],
 "metadata": {
  "kernelspec": {
   "display_name": "Python 3",
   "language": "python",
   "name": "python3"
  },
  "language_info": {
   "codemirror_mode": {
    "name": "ipython",
    "version": 3
   },
   "file_extension": ".py",
   "mimetype": "text/x-python",
   "name": "python",
   "nbconvert_exporter": "python",
   "pygments_lexer": "ipython3",
   "version": "3.8.1"
  }
 },
 "nbformat": 4,
 "nbformat_minor": 4
}
