{
 "cells": [
  {
   "cell_type": "markdown",
   "metadata": {},
   "source": [
    "## BIBFRAME RDF to MARC Examples\n",
    "# 13 January 2020"
   ]
  },
  {
   "cell_type": "code",
   "execution_count": 2,
   "metadata": {},
   "outputs": [],
   "source": [
    "import rdflib\n",
    "import sys\n",
    "from lxml import etree\n",
    "sys.path.append(\"../src/sinopia/\")\n",
    "import xml_helpers\n",
    "bf2marc_xsl = xml_helpers.get_xslt('../src/xslt/bibframe2marc.xsl')"
   ]
  },
  {
   "cell_type": "code",
   "execution_count": 3,
   "metadata": {},
   "outputs": [],
   "source": [
    "raven_black_work_url = 'https://trellis.stage.sinopia.io/repository/stanford/c415fd11-b17f-47fb-8a70-f717eee9e09e'\n",
    "raven_black_instance_url = 'https://trellis.stage.sinopia.io/repository/stanford/2f5ec44d-2eab-4f56-b9f0-35569b26484f'\n",
    "\n",
    "thin_air_work_url = 'https://trellis.stage.sinopia.io/repository/stanford/437a27b4-a014-4dd0-b2db-b6ae9259446b'\n",
    "thin_air_instance_url = 'https://trellis.stage.sinopia.io/repository/stanford/4eb23e65-25e8-41bc-8924-c2d030a7c879'"
   ]
  },
  {
   "cell_type": "markdown",
   "metadata": {},
   "source": [
    "## Raven Black Work and Instance"
   ]
  },
  {
   "cell_type": "code",
   "execution_count": 5,
   "metadata": {},
   "outputs": [],
   "source": [
    "sinopia_raven_black_xml = xml_helpers.unnestedXML(raven_black_instance_url, raven_black_work_url)\n",
    "sinopia_raven_black_marc_xml = bf2marc_xsl(sinopia_raven_black_xml)\n",
    "sinopia_raven_black_marc21 = xml_helpers.marcXMLto21(sinopia_raven_black_marc_xml)"
   ]
  },
  {
   "cell_type": "code",
   "execution_count": 6,
   "metadata": {},
   "outputs": [
    {
     "name": "stdout",
     "output_type": "stream",
     "text": [
      "=LDR       nam a22     uu 4500\n",
      "=001  idm100230080272\n",
      "=003  DLC\n",
      "=008  700101|||||||||xx\\\\\\\\\\\\\\\\\\\\\\\\|||\\|\\eng\\|\n",
      "=010  \\\\$a2006386003\n",
      "=020  \\\\$a1405054727$qhbk.$q9781405054720\n",
      "=042  \\\\$a$alccopycat\n",
      "=043  \\\\$0http://id.loc.gov/authorities/names/n81097141\n",
      "=050  \\0$aPR6053.L45$bR38 2006\n",
      "=100  1\\$4http://id.loc.gov/vocabulary/relators/aut\n",
      "=245  10$aRaven black$cAnn Cleeves\n",
      "=264  \\1$c2006\n",
      "=300  \\\\$a375 pages$c22 cm\n",
      "=653  \\\\$aShetland (Scotland)\n",
      "=653  \\\\$aFiction\n",
      "=655  \\7$aDetective and mystery fiction$0http://id.loc.gov/authorities/genreForms/gf2014026280$2lcgft\n",
      "=884  \\\\$aDLC bibframe2marc-xsl v0.1.0-SNAPSHOT$g20200113152019.0$qDLC$uhttps://github.com/lcnetdev/bibframe2marc-xsl\n",
      "\n"
     ]
    }
   ],
   "source": [
    "print(sinopia_raven_black_marc21)"
   ]
  },
  {
   "cell_type": "markdown",
   "metadata": {},
   "source": [
    "## Thin Air Work and Instance"
   ]
  },
  {
   "cell_type": "code",
   "execution_count": 7,
   "metadata": {},
   "outputs": [],
   "source": [
    "sinopia_thin_air_xml = xml_helpers.unnestedXML(thin_air_instance_url, thin_air_work_url)\n",
    "sinopia_thin_air_marc_xml = bf2marc_xsl(sinopia_thin_air_xml)\n",
    "sinopia_thin_air_marc21 = xml_helpers.marcXMLto21(sinopia_thin_air_marc_xml)"
   ]
  },
  {
   "cell_type": "code",
   "execution_count": 8,
   "metadata": {},
   "outputs": [
    {
     "name": "stdout",
     "output_type": "stream",
     "text": [
      "=LDR       nam a22     uu 4500\n",
      "=001  idm100230120592\n",
      "=003  DLC\n",
      "=008  700101|||||||||xx\\\\\\\\\\\\\\\\\\\\\\\\|||\\|\\eng\\|\n",
      "=010  \\\\$a2015002537\n",
      "=020  \\\\$a9781250069948$qcloth\n",
      "=020  \\\\$a9781466879355$qebook\n",
      "=042  \\\\$apcc\n",
      "=043  \\\\$0http://id.loc.gov/authorities/names/n79123936\n",
      "=050  \\0$aPR6053.L45$bT48 2015\n",
      "=100  1\\\n",
      "=245  10$aThin air$cAnn Cleeves\n",
      "=250  \\\\$aFirst U.S. edition\n",
      "=264  \\1$c2015\n",
      "=300  \\\\$a388 pages$c22 cm\n",
      "=520  \\\\$aAnn Cleeves is back with the sixth book in her Shetland series featuring Inspector Jimmy Perez, whom readers will remember from Raven Black, White Nights, Red Bones, Blue Lightning, and Dead Water. A group of old university friends leave the bright lights of London and travel to Shetland to celebrate the marriage of one of their friends. But, one of them, Eleanor, disappears--apparently into thin air. It's mid-summer, a time of light nights and unexpected mists. And then Eleanor's body is discovered lying in a small loch close to the cliff edge. Detectives Jimmy Perez and Willow Reeves are dispatched to investigate. Before she went missing, Eleanor claimed to have seen the ghost of a local child who drowned in the 1920s. Her interest in the ghost had seemed unhealthy--obsessive, even--to her friends: an indication of a troubled mind. But Jimmy and Willow are convinced that there is more to Eleanor's death than they first thought. Is there a secret that lies behind the myth? One so shocking that someone would kill--many years later--to protect? Ann Cleeves' striking new novel is a quintessential whodunit with surprises at every turn-- |c Provided by publisher.\n",
      "=653  \\\\$aFiction\n",
      "=653  \\\\\n",
      "=653  \\\\$aPerez, Jimmy (Fictitious character)\n",
      "=653  \\\\$aMurder--Investigation\n",
      "=655  \\7$aDetective and mystery fiction$0http://id.loc.gov/authorities/genreForms/gf2014026280$2lcgft\n",
      "=884  \\\\$aDLC bibframe2marc-xsl v0.1.0-SNAPSHOT$g20200113152217.0$qDLC$uhttps://github.com/lcnetdev/bibframe2marc-xsl\n",
      "\n"
     ]
    }
   ],
   "source": [
    "print(sinopia_thin_air_marc21)"
   ]
  },
  {
   "cell_type": "code",
   "execution_count": null,
   "metadata": {},
   "outputs": [],
   "source": []
  }
 ],
 "metadata": {
  "kernelspec": {
   "display_name": "Python 3",
   "language": "python",
   "name": "python3"
  },
  "language_info": {
   "codemirror_mode": {
    "name": "ipython",
    "version": 3
   },
   "file_extension": ".py",
   "mimetype": "text/x-python",
   "name": "python",
   "nbconvert_exporter": "python",
   "pygments_lexer": "ipython3",
   "version": "3.8.1"
  }
 },
 "nbformat": 4,
 "nbformat_minor": 4
}
