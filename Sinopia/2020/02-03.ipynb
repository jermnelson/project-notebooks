{
 "cells": [
  {
   "cell_type": "markdown",
   "metadata": {},
   "source": [
    "# Sinopia BIBFRAME to MARC\n",
    "## 03 February 2020"
   ]
  },
  {
   "cell_type": "code",
   "execution_count": 2,
   "metadata": {},
   "outputs": [],
   "source": [
    "import rdflib\n",
    "import sys\n",
    "from lxml import etree\n",
    "sys.path.append(\"../src/sinopia/\")\n",
    "import xml_helpers\n",
    "bf2marc_xsl = xml_helpers.get_xslt('../src/xslt/bibframe2marc.xsl')"
   ]
  },
  {
   "cell_type": "code",
   "execution_count": 3,
   "metadata": {},
   "outputs": [],
   "source": [
    "work_url = 'https://trellis.stage.sinopia.io/repository/stanford/90101875-fcf0-425f-b06c-e47bedcec982'\n",
    "instance_url = 'https://trellis.stage.sinopia.io/repository/stanford/eea24856-5e20-4214-94ec-119595382b4c'\n"
   ]
  },
  {
   "cell_type": "code",
   "execution_count": 4,
   "metadata": {},
   "outputs": [
    {
     "name": "stdout",
     "output_type": "stream",
     "text": [
      "=LDR       nam a22     uu 4500\n",
      "=001  idm536609249296\n",
      "=003  DLC\n",
      "=008  700101|||||||||xx\\\\\\\\\\\\\\\\\\\\\\\\|||\\|\\eng\\|\n",
      "=010  \\\\$a2011032299\n",
      "=020  \\\\$a0780895797193\n",
      "=040  \\\\\n",
      "=042  \\\\$apcc\n",
      "=050  \\0$aML111$b.D43 2012\n",
      "=245  10$aDirections in music cataloging$cedited by Peter H. Lisius and Richard Griscom\n",
      "=264  \\1$c2012\n",
      "=264  \\4$c2012\n",
      "=300  \\\\$axi, 173 pages$c24 cm\n",
      "=521  \\\\\n",
      "=505  0\\$aWorks and expressions in RDA: Problems and solutions / Damian Iseminger -- The Music Genre/Form Project ; history, accomplshments and future directions / Beth Iseminger.\n",
      "=653  \\\\$aCataloging of music\n",
      "=700  1\\$eEditor of compilation\n",
      "=700  1\\$4http://id.loc.gov/vocabulary/relators/edc\n",
      "=884  \\\\$aDLC bibframe2marc-xsl v0.1.0-SNAPSHOT$g20200205091814.0$qDLC$uhttps://github.com/lcnetdev/bibframe2marc-xsl\n",
      "\n"
     ]
    }
   ],
   "source": [
    "resource_xml = xml_helpers.unnestedXML(instance_url, work_url)\n",
    "marc_xml = bf2marc_xsl(resource_xml)\n",
    "marc21 = xml_helpers.marcXMLto21(marc_xml)\n",
    "print(marc21)"
   ]
  },
  {
   "cell_type": "code",
   "execution_count": 5,
   "metadata": {},
   "outputs": [
    {
     "data": {
      "text/plain": [
       "<Graph identifier=N521d485fc8e246b08f11ee5c940f3a03 (<class 'rdflib.graph.Graph'>)>"
      ]
     },
     "execution_count": 5,
     "metadata": {},
     "output_type": "execute_result"
    }
   ],
   "source": [
    "resource_graph = rdflib.ConjunctiveGraph()\n",
    "resource_graph.parse(data=etree.tostring(resource_xml), format='xml')"
   ]
  },
  {
   "cell_type": "code",
   "execution_count": 6,
   "metadata": {},
   "outputs": [
    {
     "name": "stdout",
     "output_type": "stream",
     "text": [
      "@prefix bf: <http://id.loc.gov/ontologies/bibframe/> .\n",
      "@prefix bflc: <http://id.loc.gov/ontologies/bflc/> .\n",
      "@prefix rdf: <http://www.w3.org/1999/02/22-rdf-syntax-ns#> .\n",
      "@prefix rdfs: <http://www.w3.org/2000/01/rdf-schema#> .\n",
      "@prefix sinopia: <http://sinopia.io/vocabulary/> .\n",
      "@prefix xml: <http://www.w3.org/XML/1998/namespace> .\n",
      "@prefix xsd: <http://www.w3.org/2001/XMLSchema#> .\n",
      "\n",
      "<http://id.loc.gov/authorities/names/n2011050771> rdfs:label \"Lisius, Peter H.\" .\n",
      "\n",
      "<http://id.loc.gov/authorities/names/n79109339> rdfs:label \"Music Library Association\" .\n",
      "\n",
      "<http://id.loc.gov/authorities/names/n91111042> rdfs:label \"A-R Editions\" .\n",
      "\n",
      "<http://id.loc.gov/authorities/names/no2004060610> rdfs:label \"Griscom, Richard W.\" .\n",
      "\n",
      "<http://id.loc.gov/authorities/subjects/sh85020869> rdfs:label \"Cataloging of music\" .\n",
      "\n",
      "<http://id.loc.gov/vocabulary/carriers/nc> rdfs:label \"volume\" .\n",
      "\n",
      "<http://id.loc.gov/vocabulary/contentTypes/txt> rdfs:label \"text\" .\n",
      "\n",
      "<http://id.loc.gov/vocabulary/descriptionConventions/rda> rdfs:label \"Resource Description and Access\" .\n",
      "\n",
      "<http://id.loc.gov/vocabulary/issuance/mono> rdfs:label \"single unit\" .\n",
      "\n",
      "<http://id.loc.gov/vocabulary/marcauthen/pcc> rdfs:label \"Program for Cooperative Cataloging\" .\n",
      "\n",
      "<http://id.loc.gov/vocabulary/maudience/spe> rdfs:label \"Specialized\" .\n",
      "\n",
      "<http://id.loc.gov/vocabulary/mediaTypes/n> rdfs:label \"unmediated\" .\n",
      "\n",
      "<https://trellis.stage.sinopia.io/repository/stanford/90101875-fcf0-425f-b06c-e47bedcec982> a bf:Work ;\n",
      "    bf:classification [ a bf:ClassificationLcc ;\n",
      "            bf:classificationPortion \"ML111\"@eng ;\n",
      "            bf:itemPortion \".D43 2012\"@eng ] ;\n",
      "    bf:content <http://id.loc.gov/vocabulary/contentTypes/txt> ;\n",
      "    bf:contribution [ a bf:Contribution ;\n",
      "            bf:agent [ a bf:Person ;\n",
      "                    rdf:value <http://id.loc.gov/authorities/names/no2004060610> ] ;\n",
      "            bf:role <http://id.loc.gov/vocabulary/relators/edc> ],\n",
      "        [ a bf:Contribution ;\n",
      "            bf:agent [ a bf:Person ;\n",
      "                    rdf:value <http://id.loc.gov/authorities/names/n2011050771> ] ;\n",
      "            bf:role <http://id.loc.gov/vocabulary/relators/edc> ] ;\n",
      "    bf:hasInstance <https://trellis.stage.sinopia.io/repository/stanford/eea24856-5e20-4214-94ec-119595382b4c> ;\n",
      "    bf:intendedAudience <http://id.loc.gov/vocabulary/maudience/spe> ;\n",
      "    bf:language <http://id.loc.gov/vocabulary/languages/eng> ;\n",
      "    bf:notation [ a bf:Script ;\n",
      "            rdfs:label \"Latin\"@eng ] ;\n",
      "    bf:originDate \"2012\"@eng ;\n",
      "    bf:subject <http://id.loc.gov/authorities/subjects/sh85020869> ;\n",
      "    bf:tableOfContents [ a bf:TableOfContents ;\n",
      "            rdfs:label \"Works and expressions in RDA: Problems and solutions / Damian Iseminger -- The Music Genre/Form Project ; history, accomplshments and future directions / Beth Iseminger.\"@eng ] ;\n",
      "    bf:title [ a bf:Title ;\n",
      "            bf:mainTitle \"Directions in music cataloging\"@eng ] ;\n",
      "    sinopia:hasResourceTemplate \"ld4p:RT:bf2:Monograph:Work:Un-nested\" .\n",
      "\n",
      "<https://trellis.stage.sinopia.io/repository/stanford/eea24856-5e20-4214-94ec-119595382b4c> a bf:Instance ;\n",
      "    bf:adminMetadata [ a bf:AdminMetadata ;\n",
      "            bflc:catalogerId \"NancyL\"@eng ;\n",
      "            bf:creationDate \"2020-02-03\"@eng ;\n",
      "            bf:descriptionAuthentication <http://id.loc.gov/vocabulary/marcauthen/pcc> ;\n",
      "            bf:descriptionConventions <http://id.loc.gov/vocabulary/descriptionConventions/rda> ;\n",
      "            bf:descriptionLanguage <http://id.loc.gov/vocabulary/languages/eng> ;\n",
      "            bf:source <http://id.loc.gov/vocabulary/organizations/cst> ] ;\n",
      "    bf:carrier <http://id.loc.gov/vocabulary/carriers/nc> ;\n",
      "    bf:copyrightDate \"2012\"@eng ;\n",
      "    bf:date \"2012\"@eng ;\n",
      "    bf:dimensions \"24 cm\"@eng ;\n",
      "    bf:extent [ a bf:Extent ;\n",
      "            rdfs:label \"xi, 173 pages\"@eng ] ;\n",
      "    bf:hasSeries [ a bf:Instance ;\n",
      "            bf:seriesEnumeration \"32\"@eng ;\n",
      "            bf:seriesStatement \"Music Library Association Technical Reports Series / Mark McKnight, series editor\"@eng ] ;\n",
      "    bf:identifiedBy [ a bf:Isbn ;\n",
      "            rdf:value \"0780895797193\"@eng ],\n",
      "        [ a bf:Lccn ;\n",
      "            rdf:value \"2011032299\"@eng ] ;\n",
      "    bf:instanceOf <https://trellis.stage.sinopia.io/repository/stanford/90101875-fcf0-425f-b06c-e47bedcec982> ;\n",
      "    bf:issuance <http://id.loc.gov/vocabulary/issuance/mono> ;\n",
      "    bf:media <http://id.loc.gov/vocabulary/mediaTypes/n> ;\n",
      "    bf:provisionActivity [ a bf:Publication ;\n",
      "            bf:agent [ a bf:Agent ;\n",
      "                    bf:Agent <http://id.loc.gov/authorities/names/n79109339> ],\n",
      "                [ a bf:Agent ;\n",
      "                    bf:Agent <http://id.loc.gov/authorities/names/n91111042> ] ;\n",
      "            bf:date \"2012\"@eng ;\n",
      "            bf:place \"Middleton (Wisc.)\" ] ;\n",
      "    bf:provisionActivityStatement \"Middleton, Wisconsin : co-published by Music Library Association and A-R Editions, Inc.\"@eng ;\n",
      "    bf:responsibilityStatement \"edited by Peter H. Lisius and Richard Griscom\"@eng ;\n",
      "    bf:title [ a bf:Title ;\n",
      "            bf:mainTitle \"Directions in music cataloging\"@eng ] ;\n",
      "    sinopia:hasResourceTemplate \"ld4p:RT:bf2:Monograph:Instance:Un-nested\" .\n",
      "\n",
      "<http://id.loc.gov/vocabulary/languages/eng> rdfs:label \"English\" .\n",
      "\n",
      "<http://id.loc.gov/vocabulary/relators/edc> rdfs:label \"Editor of compilation\" .\n",
      "\n",
      "\n"
     ]
    }
   ],
   "source": [
    "print(resource_graph.serialize(format='turtle').decode())"
   ]
  },
  {
   "cell_type": "code",
   "execution_count": 6,
   "metadata": {},
   "outputs": [
    {
     "name": "stdout",
     "output_type": "stream",
     "text": [
      "<rdf:RDF xmlns:bf=\"http://id.loc.gov/ontologies/bibframe/\" xmlns:rdfs=\"http://www.w3.org/2000/01/rdf-schema#\" xmlns:rdf=\"http://www.w3.org/1999/02/22-rdf-syntax-ns#\" xmlns:sinopia=\"http://sinopia.io/vocabulary/\" xmlns:bflc=\"http://id.loc.gov/ontologies/bflc/\"><bf:Instance rdf:about=\"https://trellis.stage.sinopia.io/repository/stanford/eea24856-5e20-4214-94ec-119595382b4c\"><bf:provisionActivity><bf:Publication rdf:nodeID=\"f03b86b0bca5245449fc2b2fbc06f0121b7\"><bf:agent><bf:Agent rdf:nodeID=\"f03b86b0bca5245449fc2b2fbc06f0121b9\"><bf:Agent rdf:resource=\"http://id.loc.gov/authorities/names/n79109339\"/></bf:Agent></bf:agent><bf:place>Middleton (Wisc.)</bf:place><bf:date xml:lang=\"eng\">2012</bf:date><bf:agent><bf:Agent rdf:nodeID=\"f03b86b0bca5245449fc2b2fbc06f0121b3\"><bf:Agent rdf:resource=\"http://id.loc.gov/authorities/names/n91111042\"/></bf:Agent></bf:agent></bf:Publication></bf:provisionActivity><bf:adminMetadata><bf:AdminMetadata rdf:nodeID=\"f03b86b0bca5245449fc2b2fbc06f0121b2\"><bflc:catalogerId xml:lang=\"eng\">NancyL</bflc:catalogerId><bf:descriptionAuthentication rdf:resource=\"http://id.loc.gov/vocabulary/marcauthen/pcc\"/><bf:descriptionLanguage rdf:resource=\"http://id.loc.gov/vocabulary/languages/eng\"/><bf:descriptionConventions rdf:resource=\"http://id.loc.gov/vocabulary/descriptionConventions/rda\"/><bf:creationDate xml:lang=\"eng\">2020-02-03</bf:creationDate><bf:source rdf:resource=\"http://id.loc.gov/vocabulary/organizations/cst\"/></bf:AdminMetadata></bf:adminMetadata><bf:date xml:lang=\"eng\">2012</bf:date><bf:identifiedBy><bf:Lccn rdf:nodeID=\"f03b86b0bca5245449fc2b2fbc06f0121b8\"><rdf:value xml:lang=\"eng\">2011032299</rdf:value></bf:Lccn></bf:identifiedBy><bf:carrier><rdf:Description rdf:about=\"http://id.loc.gov/vocabulary/carriers/nc\"><rdfs:label>volume</rdfs:label></rdf:Description></bf:carrier><bf:instanceOf rdf:resource=\"https://trellis.stage.sinopia.io/repository/stanford/90101875-fcf0-425f-b06c-e47bedcec982\"/><bf:copyrightDate xml:lang=\"eng\">2012</bf:copyrightDate><bf:dimensions xml:lang=\"eng\">24 cm</bf:dimensions><bf:title><bf:Title rdf:nodeID=\"f03b86b0bca5245449fc2b2fbc06f0121b5\"><bf:mainTitle xml:lang=\"eng\">Directions in music cataloging</bf:mainTitle></bf:Title></bf:title><bf:extent><bf:Extent rdf:nodeID=\"f03b86b0bca5245449fc2b2fbc06f0121b4\"><rdfs:label xml:lang=\"eng\">xi, 173 pages</rdfs:label></bf:Extent></bf:extent><sinopia:hasResourceTemplate>ld4p:RT:bf2:Monograph:Instance:Un-nested</sinopia:hasResourceTemplate><bf:issuance><rdf:Description rdf:about=\"http://id.loc.gov/vocabulary/issuance/mono\"><rdfs:label>single unit</rdfs:label></rdf:Description></bf:issuance><bf:identifiedBy><bf:Isbn rdf:nodeID=\"f03b86b0bca5245449fc2b2fbc06f0121b6\"><rdf:value xml:lang=\"eng\">0780895797193</rdf:value></bf:Isbn></bf:identifiedBy><bf:provisionActivityStatement xml:lang=\"eng\">Middleton, Wisconsin : co-published by Music Library Association and A-R Editions, Inc.</bf:provisionActivityStatement><bf:hasSeries><bf:Instance rdf:nodeID=\"f03b86b0bca5245449fc2b2fbc06f0121b1\"><bf:seriesStatement xml:lang=\"eng\">Music Library Association Technical Reports Series / Mark McKnight, series editor</bf:seriesStatement><bf:seriesEnumeration xml:lang=\"eng\">32</bf:seriesEnumeration></bf:Instance></bf:hasSeries><bf:responsibilityStatement xml:lang=\"eng\">edited by Peter H. Lisius and Richard Griscom</bf:responsibilityStatement><bf:media><rdf:Description rdf:about=\"http://id.loc.gov/vocabulary/mediaTypes/n\"><rdfs:label>unmediated</rdfs:label></rdf:Description></bf:media></bf:Instance><rdf:Description rdf:about=\"http://id.loc.gov/authorities/names/n91111042\"><rdfs:label>A-R Editions</rdfs:label></rdf:Description><rdf:Description rdf:about=\"http://id.loc.gov/vocabulary/descriptionConventions/rda\"><rdfs:label>Resource Description and Access</rdfs:label></rdf:Description><rdf:Description rdf:about=\"http://id.loc.gov/vocabulary/languages/eng\"><rdfs:label>English</rdfs:label></rdf:Description><rdf:Description rdf:about=\"http://id.loc.gov/vocabulary/marcauthen/pcc\"><rdfs:label>Program for Cooperative Cataloging</rdfs:label></rdf:Description><rdf:Description rdf:about=\"http://id.loc.gov/authorities/names/n79109339\"><rdfs:label>Music Library Association</rdfs:label></rdf:Description><bf:Work rdf:about=\"https://trellis.stage.sinopia.io/repository/stanford/90101875-fcf0-425f-b06c-e47bedcec982\"><bf:title><bf:Title rdf:nodeID=\"f547c3e8e99334a389c798007c98e70b5b5\"><bf:mainTitle xml:lang=\"eng\">Directions in music cataloging</bf:mainTitle></bf:Title></bf:title><bf:tableOfContents><bf:TableOfContents rdf:nodeID=\"f547c3e8e99334a389c798007c98e70b5b1\"><rdfs:label xml:lang=\"eng\">Works and expressions in RDA: Problems and solutions / Damian Iseminger -- The Music Genre/Form Project ; history, accomplshments and future directions / Beth Iseminger.</rdfs:label></bf:TableOfContents></bf:tableOfContents><bf:classification><bf:ClassificationLcc rdf:nodeID=\"f547c3e8e99334a389c798007c98e70b5b6\"><bf:classificationPortion xml:lang=\"eng\">ML111</bf:classificationPortion><bf:itemPortion xml:lang=\"eng\">.D43 2012</bf:itemPortion></bf:ClassificationLcc></bf:classification><bf:content><rdf:Description rdf:about=\"http://id.loc.gov/vocabulary/contentTypes/txt\"><rdfs:label>text</rdfs:label></rdf:Description></bf:content><bf:subject><rdf:Description rdf:about=\"http://id.loc.gov/authorities/subjects/sh85020869\"><rdfs:label>Cataloging of music</rdfs:label></rdf:Description></bf:subject><bf:language><rdf:Description rdf:about=\"http://id.loc.gov/vocabulary/languages/eng\"><rdfs:label>English</rdfs:label></rdf:Description></bf:language><bf:notation><bf:Script rdf:nodeID=\"f547c3e8e99334a389c798007c98e70b5b2\"><rdfs:label xml:lang=\"eng\">Latin</rdfs:label></bf:Script></bf:notation><bf:contribution><bf:Contribution rdf:nodeID=\"f547c3e8e99334a389c798007c98e70b5b7\"><bf:agent><bf:Person rdf:nodeID=\"f547c3e8e99334a389c798007c98e70b5b8\"><rdf:value><rdf:Description rdf:about=\"http://id.loc.gov/authorities/names/n2011050771\"><rdfs:label>Lisius, Peter H.</rdfs:label></rdf:Description></rdf:value></bf:Person></bf:agent><bf:role><rdf:Description rdf:about=\"http://id.loc.gov/vocabulary/relators/edc\"><rdfs:label>Editor of compilation</rdfs:label></rdf:Description></bf:role></bf:Contribution></bf:contribution><bf:contribution><bf:Contribution rdf:nodeID=\"f547c3e8e99334a389c798007c98e70b5b3\"><bf:role rdf:resource=\"http://id.loc.gov/vocabulary/relators/edc\"/><bf:agent><bf:Person rdf:nodeID=\"f547c3e8e99334a389c798007c98e70b5b4\"><rdf:value><rdf:Description rdf:about=\"http://id.loc.gov/authorities/names/no2004060610\"><rdfs:label>Griscom, Richard W.</rdfs:label></rdf:Description></rdf:value></bf:Person></bf:agent></bf:Contribution></bf:contribution><bf:intendedAudience><rdf:Description rdf:about=\"http://id.loc.gov/vocabulary/maudience/spe\"><rdfs:label>Specialized</rdfs:label></rdf:Description></bf:intendedAudience><sinopia:hasResourceTemplate>ld4p:RT:bf2:Monograph:Work:Un-nested</sinopia:hasResourceTemplate><bf:hasInstance rdf:resource=\"https://trellis.stage.sinopia.io/repository/stanford/eea24856-5e20-4214-94ec-119595382b4c\"/><bf:originDate xml:lang=\"eng\">2012</bf:originDate></bf:Work></rdf:RDF>\n"
     ]
    }
   ],
   "source": [
    "print(etree.tostring(resource_xml).decode())"
   ]
  },
  {
   "cell_type": "code",
   "execution_count": null,
   "metadata": {},
   "outputs": [],
   "source": []
  }
 ],
 "metadata": {
  "kernelspec": {
   "display_name": "Python 3",
   "language": "python",
   "name": "python3"
  },
  "language_info": {
   "codemirror_mode": {
    "name": "ipython",
    "version": 3
   },
   "file_extension": ".py",
   "mimetype": "text/x-python",
   "name": "python",
   "nbconvert_exporter": "python",
   "pygments_lexer": "ipython3",
   "version": "3.8.1"
  }
 },
 "nbformat": 4,
 "nbformat_minor": 4
}
