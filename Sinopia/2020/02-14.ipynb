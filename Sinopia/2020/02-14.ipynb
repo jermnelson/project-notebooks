{
 "cells": [
  {
   "cell_type": "code",
   "execution_count": 1,
   "metadata": {},
   "outputs": [],
   "source": [
    "import datetime\n",
    "import rdflib\n",
    "import requests"
   ]
  },
  {
   "cell_type": "code",
   "execution_count": 8,
   "metadata": {},
   "outputs": [],
   "source": [
    "with open(\"../../ld4p/sinopia_acl/.cognitoToken\") as fo:\n",
    "    cognitoToken = fo.read()\n",
    "\n",
    "headers = { \n",
    "    \"Authorization\": f\"Bearer {cognitoToken}\"\n",
    "}"
   ]
  },
  {
   "cell_type": "code",
   "execution_count": 2,
   "metadata": {},
   "outputs": [],
   "source": [
    "yale_resources = \"\"\"https://trellis.sinopia.io/repository/yale/4fe4c107-ff30-453f-8f3d-5c33a03fccd1\n",
    "\n",
    "https://trellis.sinopia.io/repository/yale/cd81f169-0459-4153-83a1-71af87afb215\n",
    "\n",
    "https://trellis.sinopia.io/repository/yale/18f878b4-cb42-4b21-89fe-23fcfa8a4ee7\n",
    "\n",
    "https://trellis.sinopia.io/repository/yale/c4512503-72da-4acb-9a0a-1a74eec52ad3\n",
    "\n",
    "https://trellis.sinopia.io/repository/yale/75d2c86b-e94f-436d-807c-29ee4dcd9847\"\"\""
   ]
  },
  {
   "cell_type": "code",
   "execution_count": 5,
   "metadata": {},
   "outputs": [],
   "source": [
    "resources = []\n",
    "for row in yale_resources.splitlines():\n",
    "    if len(row) < 1:\n",
    "        continue\n",
    "    resources.append(row.strip())"
   ]
  },
  {
   "cell_type": "code",
   "execution_count": 6,
   "metadata": {},
   "outputs": [
    {
     "data": {
      "text/plain": [
       "['https://trellis.sinopia.io/repository/yale/4fe4c107-ff30-453f-8f3d-5c33a03fccd1',\n",
       " 'https://trellis.sinopia.io/repository/yale/cd81f169-0459-4153-83a1-71af87afb215',\n",
       " 'https://trellis.sinopia.io/repository/yale/18f878b4-cb42-4b21-89fe-23fcfa8a4ee7',\n",
       " 'https://trellis.sinopia.io/repository/yale/c4512503-72da-4acb-9a0a-1a74eec52ad3',\n",
       " 'https://trellis.sinopia.io/repository/yale/75d2c86b-e94f-436d-807c-29ee4dcd9847']"
      ]
     },
     "execution_count": 6,
     "metadata": {},
     "output_type": "execute_result"
    }
   ],
   "source": [
    "resources"
   ]
  },
  {
   "cell_type": "code",
   "execution_count": 9,
   "metadata": {},
   "outputs": [
    {
     "name": "stdout",
     "output_type": "stream",
     "text": [
      "<Response [204]>\n",
      "<Response [204]>\n",
      "<Response [204]>\n",
      "<Response [204]>\n",
      "<Response [204]>\n"
     ]
    }
   ],
   "source": [
    "for row in resources:\n",
    "    result = requests.delete(row, headers=headers)\n",
    "    print(result)"
   ]
  },
  {
   "cell_type": "code",
   "execution_count": null,
   "metadata": {},
   "outputs": [],
   "source": []
  }
 ],
 "metadata": {
  "kernelspec": {
   "display_name": "Python 3",
   "language": "python",
   "name": "python3"
  },
  "language_info": {
   "codemirror_mode": {
    "name": "ipython",
    "version": 3
   },
   "file_extension": ".py",
   "mimetype": "text/x-python",
   "name": "python",
   "nbconvert_exporter": "python",
   "pygments_lexer": "ipython3",
   "version": "3.8.1"
  }
 },
 "nbformat": 4,
 "nbformat_minor": 4
}
