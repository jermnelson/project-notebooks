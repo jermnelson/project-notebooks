{
 "cells": [
  {
   "cell_type": "markdown",
   "metadata": {},
   "source": [
    "# 27 February 2020"
   ]
  },
  {
   "cell_type": "code",
   "execution_count": 3,
   "metadata": {},
   "outputs": [],
   "source": [
    "import datetime\n",
    "import rdflib\n",
    "import requests"
   ]
  },
  {
   "cell_type": "code",
   "execution_count": 4,
   "metadata": {},
   "outputs": [],
   "source": [
    "cornell_instance = requests.get(\"https://trellis.sinopia.io/repository/cornell/7c24c836-0390-452e-85b5-6bfe8025512d\")"
   ]
  },
  {
   "cell_type": "code",
   "execution_count": 5,
   "metadata": {},
   "outputs": [
    {
     "name": "stdout",
     "output_type": "stream",
     "text": [
      "@prefix schema:  <http://schema.org/> .\n",
      "@prefix owl:  <http://www.w3.org/2002/07/owl#> .\n",
      "@prefix xsd:  <http://www.w3.org/2001/XMLSchema#> .\n",
      "@prefix memento:  <http://mementoweb.org/ns#> .\n",
      "@prefix skos:  <http://www.w3.org/2004/02/skos/core#> .\n",
      "@prefix rdfs:  <http://www.w3.org/2000/01/rdf-schema#> .\n",
      "@prefix acl:  <http://www.w3.org/ns/auth/acl#> .\n",
      "@prefix geo:  <http://www.w3.org/2003/01/geo/wgs84_pos#> .\n",
      "@prefix dc11:  <http://purl.org/dc/elements/1.1/> .\n",
      "@prefix as:  <https://www.w3.org/ns/activitystreams#> .\n",
      "@prefix rdf:  <http://www.w3.org/1999/02/22-rdf-syntax-ns#> .\n",
      "@prefix ldp:  <http://www.w3.org/ns/ldp#> .\n",
      "@prefix time:  <http://www.w3.org/2006/time#> .\n",
      "@prefix prov:  <http://www.w3.org/ns/prov#> .\n",
      "@prefix dc:  <http://purl.org/dc/terms/> .\n",
      "\n",
      "<http://id.loc.gov/authorities/genreForms/gf2014027009>\n",
      "        rdfs:label  \"Popular music\" .\n",
      "\n",
      "<https://trellis.sinopia.io/repository/cornell/7c24c836-0390-452e-85b5-6bfe8025512d>\n",
      "        <http://sinopia.io/vocabulary/hasResourceTemplate>  \"CornellSinatra45:Instance\" ;\n",
      "        <http://id.loc.gov/ontologies/bibframe/instanceOf>  _:b0 ;\n",
      "        <http://id.loc.gov/ontologies/bibframe/identifiedBy>  _:b1 ;\n",
      "        <http://id.loc.gov/ontologies/bibframe/title>  _:b2 ;\n",
      "        <http://id.loc.gov/ontologies/bibframe/soundCharacteristic>  \"b25\" ;\n",
      "        <http://id.loc.gov/ontologies/bibframe/baseMaterial>  <http://vocab.getty.edu/aat/300014502> ;\n",
      "        <http://id.loc.gov/ontologies/bibframe/dimensions>  \"7 inches\" ;\n",
      "        <http://id.loc.gov/ontologies/bibframe/carrier>  <http://id.loc.gov/vocabulary/carriers/sd> ;\n",
      "        rdf:type  <http://id.loc.gov/ontologies/bibframe/Instance> .\n",
      "\n",
      "<http://vocab.getty.edu/aat/300014502>\n",
      "        rdfs:label  \"Vinyl\" .\n",
      "\n",
      "_:b3    <http://id.loc.gov/ontologies/bibframe/agent>  \"b16\" ;\n",
      "        rdf:type  <http://id.loc.gov/ontologies/bibframe/Contribution> .\n",
      "\n",
      "_:b2    <http://id.loc.gov/ontologies/bibframe/mainTitle>  \"September Song / Among My Souvenirs\" ;\n",
      "        rdf:type  <http://id.loc.gov/ontologies/bibframe/Title> .\n",
      "\n",
      "_:b0    <http://id.loc.gov/ontologies/bibframe/hasPart>  _:b4 ;\n",
      "        <http://id.loc.gov/ontologies/bibframe/hasPart>  _:b5 ;\n",
      "        <http://id.loc.gov/ontologies/bibframe/title>  _:b6 ;\n",
      "        <http://id.loc.gov/ontologies/bibframe/contribution>  _:b7 ;\n",
      "        <http://id.loc.gov/ontologies/bibframe/originDate>  \"1946\" ;\n",
      "        <http://id.loc.gov/ontologies/bibframe/genreForm>  <http://id.loc.gov/authorities/genreForms/gf2016026057> ;\n",
      "        <http://id.loc.gov/ontologies/bibframe/genreForm>  <http://id.loc.gov/authorities/genreForms/gf2014027009> ;\n",
      "        rdf:type  <http://id.loc.gov/ontologies/bibframe/Work> .\n",
      "\n",
      "_:b8    <http://id.loc.gov/ontologies/bibframe/agent>  \"b1_agentn31\" ;\n",
      "        rdf:type  <http://id.loc.gov/ontologies/bflc/PrimaryContribution> .\n",
      "\n",
      "_:b9    <http://id.loc.gov/ontologies/bibframe/mainTitle>  \"September Song\" ;\n",
      "        rdf:type  <http://id.loc.gov/ontologies/bibframe/Title> .\n",
      "\n",
      "_:b4    <http://id.loc.gov/ontologies/bibframe/duration>  \"3:19\"@eng ;\n",
      "        <http://id.loc.gov/ontologies/bibframe/contribution>  _:b10 ;\n",
      "        <http://id.loc.gov/ontologies/bibframe/contribution>  _:b11 ;\n",
      "        <http://id.loc.gov/ontologies/bibframe/contribution>  _:b12 ;\n",
      "        <http://id.loc.gov/ontologies/bibframe/title>  _:b13 ;\n",
      "        rdf:type  <http://id.loc.gov/ontologies/bibframe/Audio> .\n",
      "\n",
      "_:b14   <http://id.loc.gov/ontologies/bibframe/agent>  \"b20\" ;\n",
      "        rdf:type  <http://id.loc.gov/ontologies/bibframe/Contribution> .\n",
      "\n",
      "_:b5    <http://id.loc.gov/ontologies/bibframe/duration>  \"3:08\"@eng ;\n",
      "        <http://id.loc.gov/ontologies/bibframe/contribution>  _:b14 ;\n",
      "        <http://id.loc.gov/ontologies/bibframe/contribution>  _:b8 ;\n",
      "        <http://id.loc.gov/ontologies/bibframe/contribution>  _:b3 ;\n",
      "        <http://id.loc.gov/ontologies/bibframe/title>  _:b9 ;\n",
      "        rdf:type  <http://id.loc.gov/ontologies/bibframe/Audio> .\n",
      "\n",
      "<http://id.loc.gov/authorities/genreForms/gf2016026057>\n",
      "        rdfs:label  \"Musical theatre\" .\n",
      "\n",
      "_:b13   <http://id.loc.gov/ontologies/bibframe/mainTitle>  \"Among My Souvenirs\" ;\n",
      "        rdf:type  <http://id.loc.gov/ontologies/bibframe/Title> .\n",
      "\n",
      "_:b10   <http://id.loc.gov/ontologies/bibframe/agent>  \"b11\" ;\n",
      "        rdf:type  <http://id.loc.gov/ontologies/bibframe/Contribution> .\n",
      "\n",
      "_:b12   <http://id.loc.gov/ontologies/bibframe/agent>  \"b6\" ;\n",
      "        rdf:type  <http://id.loc.gov/ontologies/bflc/PrimaryContribution> .\n",
      "\n",
      "_:b1    rdf:value  \"5949552\" ;\n",
      "        rdf:type   <http://id.loc.gov/ontologies/bibframe/Identifier> .\n",
      "\n",
      "<http://id.loc.gov/vocabulary/carriers/sd>\n",
      "        rdfs:label  \"audio disc\" .\n",
      "\n",
      "_:b7    <http://id.loc.gov/ontologies/bibframe/agent>  \"b3\" ;\n",
      "        rdf:type  <http://id.loc.gov/ontologies/bflc/PrimaryContribution> .\n",
      "\n",
      "_:b11   <http://id.loc.gov/ontologies/bibframe/agent>  \"b8\" ;\n",
      "        rdf:type  <http://id.loc.gov/ontologies/bibframe/Contribution> .\n",
      "\n",
      "_:b6    <http://id.loc.gov/ontologies/bibframe/mainTitle>  \"Among My Souvenirs / September Song\" ;\n",
      "        rdf:type  <http://id.loc.gov/ontologies/bibframe/Title> .\n",
      "\n"
     ]
    }
   ],
   "source": [
    "print(cornell_instance.text)"
   ]
  },
  {
   "cell_type": "code",
   "execution_count": 7,
   "metadata": {},
   "outputs": [],
   "source": [
    "with open(\"/Users/jpnelson/2020/ld4p/sinopia_acl/.cognitoToken\") as fo:\n",
    "    cognitoToken = fo.read()\n",
    "\n",
    "headers = { \n",
    "    \"Authorization\": f\"Bearer {cognitoToken}\"\n",
    "}"
   ]
  },
  {
   "cell_type": "code",
   "execution_count": 8,
   "metadata": {},
   "outputs": [],
   "source": [
    "raw_text = \"\"\"https://trellis.sinopia.io/repository/cornell/c2dfa245-5967-48bc-83f1-50d8b99f927b\n",
    "https://trellis.sinopia.io/repository/yale/9cbd8302-c4c9-4515-a3e3-9d733a65f3ea\n",
    "https://trellis.sinopia.io/repository/yale/e9d39861-8f88-4050-b91a-e9319551efb5\n",
    "https://trellis.sinopia.io/repository/yale/5ded8ece-5a2f-416d-a36e-dff91e90a85c\n",
    "\"\"\""
   ]
  },
  {
   "cell_type": "code",
   "execution_count": 12,
   "metadata": {},
   "outputs": [
    {
     "name": "stdout",
     "output_type": "stream",
     "text": [
      "https://trellis.sinopia.io/repository/cornell/c2dfa245-5967-48bc-83f1-50d8b99f927b - 204\n",
      "https://trellis.sinopia.io/repository/yale/9cbd8302-c4c9-4515-a3e3-9d733a65f3ea - 204\n",
      "https://trellis.sinopia.io/repository/yale/e9d39861-8f88-4050-b91a-e9319551efb5 - 204\n",
      "https://trellis.sinopia.io/repository/yale/5ded8ece-5a2f-416d-a36e-dff91e90a85c - 204\n"
     ]
    }
   ],
   "source": [
    "for row in raw_text.splitlines():\n",
    "    result = requests.delete(row, headers=headers)\n",
    "    print(f\"{row} - {result.status_code}\")"
   ]
  },
  {
   "cell_type": "code",
   "execution_count": 13,
   "metadata": {},
   "outputs": [
    {
     "name": "stdout",
     "output_type": "stream",
     "text": [
      "https://trellis.sinopia.io/repository/cornell/c2dfa245-5967-48bc-83f1-50d8b99f927b - 410\n",
      "https://trellis.sinopia.io/repository/yale/9cbd8302-c4c9-4515-a3e3-9d733a65f3ea - 410\n",
      "https://trellis.sinopia.io/repository/yale/e9d39861-8f88-4050-b91a-e9319551efb5 - 410\n",
      "https://trellis.sinopia.io/repository/yale/5ded8ece-5a2f-416d-a36e-dff91e90a85c - 410\n"
     ]
    }
   ],
   "source": [
    "for row in raw_text.splitlines():\n",
    "    result = requests.get(row, headers=headers)\n",
    "    print(f\"{row} - {result.status_code}\")"
   ]
  },
  {
   "cell_type": "code",
   "execution_count": 14,
   "metadata": {},
   "outputs": [],
   "source": [
    "result = requests.delete(\"https://trellis.sinopia.io/repository/cornell/014774aa-314e-4744-99cc-94c99c01b0aa\", headers=headers)"
   ]
  },
  {
   "cell_type": "code",
   "execution_count": 16,
   "metadata": {},
   "outputs": [
    {
     "name": "stdout",
     "output_type": "stream",
     "text": [
      "204\n"
     ]
    }
   ],
   "source": [
    "print(result.status_code)"
   ]
  },
  {
   "cell_type": "code",
   "execution_count": null,
   "metadata": {},
   "outputs": [],
   "source": []
  }
 ],
 "metadata": {
  "kernelspec": {
   "display_name": "Python 3",
   "language": "python",
   "name": "python3"
  },
  "language_info": {
   "codemirror_mode": {
    "name": "ipython",
    "version": 3
   },
   "file_extension": ".py",
   "mimetype": "text/x-python",
   "name": "python",
   "nbconvert_exporter": "python",
   "pygments_lexer": "ipython3",
   "version": "3.8.1"
  }
 },
 "nbformat": 4,
 "nbformat_minor": 4
}
