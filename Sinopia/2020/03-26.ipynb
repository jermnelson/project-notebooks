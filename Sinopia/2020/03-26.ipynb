{
 "cells": [
  {
   "cell_type": "markdown",
   "metadata": {
    "jupyter": {
     "source_hidden": true
    }
   },
   "source": [
    "# 26 March 2020\n",
    "Investigating why [https://trellis.sinopia.io/repository/alberta/1cb3d1b5-74f8-4a8f-9578-d0c8e074f23a](https://trellis.sinopia.io/repository/alberta/1cb3d1b5-74f8-4a8f-9578-d0c8e074f23a) is not coming up in the Sinopia search when searching by URI."
   ]
  },
  {
   "cell_type": "code",
   "execution_count": 1,
   "metadata": {},
   "outputs": [],
   "source": [
    "import requests\n",
    "import rdflib\n",
    "ual_work = 'https://trellis.sinopia.io/repository/alberta/1cb3d1b5-74f8-4a8f-9578-d0c8e074f23a'\n",
    "ual_result = requests.get(ual_work)"
   ]
  },
  {
   "cell_type": "code",
   "execution_count": 2,
   "metadata": {},
   "outputs": [
    {
     "name": "stdout",
     "output_type": "stream",
     "text": [
      "@prefix schema:  <http://schema.org/> .\n",
      "@prefix owl:  <http://www.w3.org/2002/07/owl#> .\n",
      "@prefix xsd:  <http://www.w3.org/2001/XMLSchema#> .\n",
      "@prefix memento:  <http://mementoweb.org/ns#> .\n",
      "@prefix skos:  <http://www.w3.org/2004/02/skos/core#> .\n",
      "@prefix rdfs:  <http://www.w3.org/2000/01/rdf-schema#> .\n",
      "@prefix acl:  <http://www.w3.org/ns/auth/acl#> .\n",
      "@prefix geo:  <http://www.w3.org/2003/01/geo/wgs84_pos#> .\n",
      "@prefix dc11:  <http://purl.org/dc/elements/1.1/> .\n",
      "@prefix as:  <https://www.w3.org/ns/activitystreams#> .\n",
      "@prefix rdf:  <http://www.w3.org/1999/02/22-rdf-syntax-ns#> .\n",
      "@prefix ldp:  <http://www.w3.org/ns/ldp#> .\n",
      "@prefix time:  <http://www.w3.org/2006/time#> .\n",
      "@prefix prov:  <http://www.w3.org/ns/prov#> .\n",
      "@prefix dc:  <http://purl.org/dc/terms/> .\n",
      "\n",
      "<http://share-vde.org/sharevde/rdfBibframe/Work/6235224>\n",
      "        rdfs:label  \"Aircraft communications and navigation systems\" .\n",
      "\n",
      "<https://trellis.sinopia.io/repository/alberta/1cb3d1b5-74f8-4a8f-9578-d0c8e074f23a>\n",
      "        <http://sinopia.io/vocabulary/hasResourceTemplate>  \"UAL:resourceTemplate:bf2:Monograph:Opus:Un-Nested\" ;\n",
      "        <http://id.loc.gov/ontologies/bibframe/Work>  <http://share-vde.org/sharevde/rdfBibframe/Work/6235224> ;\n",
      "        rdf:type  <http://id.loc.gov/ontologies/bibframe/Work> .\n",
      "\n"
     ]
    }
   ],
   "source": [
    "print(ual_result.text)"
   ]
  },
  {
   "cell_type": "markdown",
   "metadata": {},
   "source": [
    "**Resolution** indexing this RDF into a local copy results in the search working as expected with the item found. Doing a full re-index on Sinopia production environment resulted in this item being indexed correctly and finable."
   ]
  },
  {
   "cell_type": "code",
   "execution_count": null,
   "metadata": {},
   "outputs": [],
   "source": []
  }
 ],
 "metadata": {
  "kernelspec": {
   "display_name": "Python 3",
   "language": "python",
   "name": "python3"
  },
  "language_info": {
   "codemirror_mode": {
    "name": "ipython",
    "version": 3
   },
   "file_extension": ".py",
   "mimetype": "text/x-python",
   "name": "python",
   "nbconvert_exporter": "python",
   "pygments_lexer": "ipython3",
   "version": "3.8.1"
  }
 },
 "nbformat": 4,
 "nbformat_minor": 4
}
