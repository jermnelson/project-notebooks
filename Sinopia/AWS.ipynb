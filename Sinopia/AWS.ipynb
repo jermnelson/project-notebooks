{
 "cells": [
  {
   "cell_type": "markdown",
   "metadata": {},
   "source": [
    "# AWS Help\n",
    "Since I normally do an update to Sinopia's staging and production environments using Terraform at most once a week, here are a couple of notes to help me remember some of the smaller details."
   ]
  },
  {
   "cell_type": "markdown",
   "metadata": {},
   "source": [
    "1.  Set Stanford's vault address `export VAULT_ADDR=https://vault.sul.stanford.edu:443/` before any commandline Terraform work\n",
    "1.  My general **var.profile** is `jpnelson`, stage **var.profile_role** is `stage-jpnelson`."
   ]
  },
  {
   "cell_type": "code",
   "execution_count": null,
   "metadata": {},
   "outputs": [],
   "source": []
  }
 ],
 "metadata": {
  "kernelspec": {
   "display_name": "Python 3",
   "language": "python",
   "name": "python3"
  },
  "language_info": {
   "codemirror_mode": {
    "name": "ipython",
    "version": 3
   },
   "file_extension": ".py",
   "mimetype": "text/x-python",
   "name": "python",
   "nbconvert_exporter": "python",
   "pygments_lexer": "ipython3",
   "version": "3.8.1"
  }
 },
 "nbformat": 4,
 "nbformat_minor": 4
}
