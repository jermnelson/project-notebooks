{
 "cells": [
  {
   "cell_type": "markdown",
   "metadata": {},
   "source": [
    "# Sinopia BIBFRAME to MARC\n",
    "## 03 February 2020"
   ]
  },
  {
   "cell_type": "code",
   "execution_count": 1,
   "metadata": {},
   "outputs": [],
   "source": [
    "import rdflib\n",
    "import sys\n",
    "from lxml import etree\n",
    "sys.path.append(\"../src/sinopia/\")\n",
    "import xml_helpers\n",
    "bf2marc_xsl = xml_helpers.get_xslt('../src/xslt/bibframe2marc.xsl')"
   ]
  },
  {
   "cell_type": "code",
   "execution_count": 2,
   "metadata": {},
   "outputs": [],
   "source": [
    "work_url = 'https://trellis.stage.sinopia.io/repository/stanford/90101875-fcf0-425f-b06c-e47bedcec982'\n",
    "instance_url = 'https://trellis.stage.sinopia.io/repository/stanford/eea24856-5e20-4214-94ec-119595382b4c'\n"
   ]
  },
  {
   "cell_type": "code",
   "execution_count": 3,
   "metadata": {},
   "outputs": [
    {
     "name": "stdout",
     "output_type": "stream",
     "text": [
      "=LDR       nam a22     uu 4500\n",
      "=001  idm276487034736\n",
      "=003  DLC\n",
      "=008  700101|||||||||xx\\\\\\\\\\\\\\\\\\\\\\\\|||\\|\\eng\\|\n",
      "=010  \\\\$a2011032299\n",
      "=020  \\\\$a0780895797193\n",
      "=040  \\\\\n",
      "=042  \\\\$apcc\n",
      "=050  \\0$aML111$b.D43 2012\n",
      "=245  10$aDirections in music cataloging$cedited by Peter H. Lisius and Richard Griscom\n",
      "=264  \\1$c2012\n",
      "=264  \\4$c2012\n",
      "=300  \\\\$axi, 173 pages$c24 cm\n",
      "=521  \\\\\n",
      "=505  0\\$aWorks and expressions in RDA: Problems and solutions / Damian Iseminger -- The Music Genre/Form Project ; history, accomplshments and future directions / Beth Iseminger.\n",
      "=653  \\\\$aCataloging of music\n",
      "=700  1\\$eEditor of compilation\n",
      "=700  1\\$4http://id.loc.gov/vocabulary/relators/edc\n",
      "=884  \\\\$aDLC bibframe2marc-xsl v0.1.0-SNAPSHOT$g20200203151536.0$qDLC$uhttps://github.com/lcnetdev/bibframe2marc-xsl\n",
      "\n"
     ]
    }
   ],
   "source": [
    "resource_xml = xml_helpers.unnestedXML(instance_url, work_url)\n",
    "marc_xml = bf2marc_xsl(resource_xml)\n",
    "marc21 = xml_helpers.marcXMLto21(marc_xml)\n",
    "print(marc21)"
   ]
  },
  {
   "cell_type": "code",
   "execution_count": null,
   "metadata": {},
   "outputs": [],
   "source": []
  }
 ],
 "metadata": {
  "kernelspec": {
   "display_name": "Python 3",
   "language": "python",
   "name": "python3"
  },
  "language_info": {
   "codemirror_mode": {
    "name": "ipython",
    "version": 3
   },
   "file_extension": ".py",
   "mimetype": "text/x-python",
   "name": "python",
   "nbconvert_exporter": "python",
   "pygments_lexer": "ipython3",
   "version": "3.8.1"
  }
 },
 "nbformat": 4,
 "nbformat_minor": 4
}
