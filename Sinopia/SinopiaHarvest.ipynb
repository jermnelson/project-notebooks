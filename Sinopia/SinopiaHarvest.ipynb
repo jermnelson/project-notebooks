{
 "cells": [
  {
   "cell_type": "code",
   "execution_count": 1,
   "metadata": {},
   "outputs": [],
   "source": [
    "import datetime\n",
    "import json\n",
    "import os\n",
    "import requests\n",
    "import rdflib\n",
    "import random\n",
    "import zipfile\n",
    "start = datetime.datetime.utcnow()\n",
    "LDP = rdflib.Namespace(\"http://www.w3.org/ns/ldp#\")"
   ]
  },
  {
   "cell_type": "code",
   "execution_count": 2,
   "metadata": {},
   "outputs": [],
   "source": [
    "HEADERS = { \"Prefer\": \"return=representation; include=\\\"http://www.trellisldp.org/ns/trellis#PreferAudit\\\"\"}\n",
    "\n",
    "def save_rts(path, resource_templates):\n",
    "    current = datetime.datetime.utcnow()\n",
    "    print(f\"Started save of {len(resource_templates)} Resource Templates\")\n",
    "    for i, row in enumerate(resource_templates):\n",
    "        if not i%25:\n",
    "            print(f\".\", end=\"\")\n",
    "        file_path = f\"{path}/{current.year}/{current.month:02d}/{current.day:02d}/resource_templates/{i:05d}.ttl\"\n",
    "        with open(file_path, \"w+\") as fo:\n",
    "            json.dump(row, fo, sort_keys=True, indent=2)\n",
    "    end = datetime.datetime.utcnow()\n",
    "    print(f\"Finished at {end}, total time {(end-current).seconds}\")\n",
    "        \n",
    "\n",
    "def save_ttl(path, type_of, ttls):\n",
    "    current = datetime.datetime.utcnow()\n",
    "    for i, row in enumerate(ttls):\n",
    "        file_path = f\"{path}/{current.year}/{current.month:02d}/{current.day:02d}/{type_of}/{i:05d}.ttl\"\n",
    "        with open(file_path, \"w+\") as ttl:\n",
    "            ttl.write(row)\n",
    "            \n",
    "def harvest_trellis_rts(ld4p_url='https://trellis.stage.sinopia.io/repository/ld4p'):\n",
    "    start = datetime.datetime.utcnow()\n",
    "    print(f\"Harvesting Resource Templates for {ld4p_url} at {start}\")\n",
    "    ld4p_result = requests.get(ld4p_url)\n",
    "    ld4p_graph = rdflib.ConjunctiveGraph()\n",
    "    ld4p_graph.parse(data=ld4p_result.text, format='turtle')\n",
    "    resource_templates = []\n",
    "    for o in ld4p_graph.objects(predicate=LDP.contains):\n",
    "        if not len(resource_templates)%1000:\n",
    "            print(f\"{len(resource_templates):,}\", end=\"\")\n",
    "        else:\n",
    "            print(\".\", end=\"\")\n",
    "        template_request = requests.get(str(o))\n",
    "        resource_templates.append(template_request.text)\n",
    "    end = datetime.datetime.utcnow()\n",
    "    print(f\"Finished harvesting {len(resource_templates):,} from {ld4p_url} at {end}]\\nTotal time {((end-start).seconds / 60):,}\")\n",
    "    return resource_templates\n",
    "    \n",
    "def harvest_trellis(trellis_url = 'https://trellis.stage.sinopia.io/repository'):\n",
    "    start = datetime.datetime.utcnow()\n",
    "    print(f\"Starting Harvest of {trellis_url} at {start}\")\n",
    "    home = requests.get(trellis_url)\n",
    "    home_graph = rdflib.ConjunctiveGraph()\n",
    "    home_graph.parse(data=home.text, format='turtle')\n",
    "    test, training = [], []\n",
    "    for o in home_graph.objects(predicate=LDP.contains):\n",
    "        group_result = requests.get(str(o))\n",
    "        if str(o).find(\"ld4p\") > 0:\n",
    "            continue\n",
    "        print(f\"Institution URI {o}\")\n",
    "        group_graph = rdflib.ConjunctiveGraph()\n",
    "        group_graph.parse(data=group_result.text, format='turtle')\n",
    "        for i, resource_uri in enumerate(\n",
    "            group_graph.objects(predicate=LDP.contains)):\n",
    "            resource_result = requests.get(str(resource_uri), headers=HEADERS)\n",
    "            print(\".\", end=\"\")\n",
    "            output = resource_result.text\n",
    "            output = output.replace(\"<>\", f\"<{resource_uri}>\")\n",
    "            choice = random.random()\n",
    "            if choice <= .80:\n",
    "                training.append(output)\n",
    "            else:\n",
    "                test.append(output)\n",
    "        print(f\"Finished with {i}\")\n",
    "    end = datetime.datetime.utcnow()\n",
    "    print(f\"\"\"Finished Harvesting at {end}, total time: {(end-start).seconds} seconds, \n",
    "    Test size {len(test)}\n",
    "    Training {len(training)}\"\"\")\n",
    "    \n",
    "    return test, training, home_graph"
   ]
  },
  {
   "cell_type": "code",
   "execution_count": 3,
   "metadata": {},
   "outputs": [],
   "source": [
    "def save_data(zipped_file, data):\n",
    "    for i, row in enumerate(data):\n",
    "        zipped_file.writestr(f\"{i:05d}.ttl\", row)\n",
    "        if not i%25:\n",
    "            print(f\"{i:,}\", end=\"\")\n",
    "        else:\n",
    "            print(\".\", end=\"\")\n",
    "    \n",
    "def persist(path, testing, training, resource_templates):\n",
    "    training_zip = zipfile.ZipFile(os.path.join(path, 'training.zip'), 'w')\n",
    "    testing_zip = zipfile.ZipFile(os.path.join(path, 'testing.zip'), 'w')\n",
    "    rt_zip = zipfile.ZipFile(os.path.join(path, 'resource-templates.zip'), 'w')\n",
    "    save_data(training_zip, training)\n",
    "    save_data(testing_zip, testing)\n",
    "    save_data(rt_zip, resource_templates)\n",
    "    "
   ]
  },
  {
   "cell_type": "code",
   "execution_count": 4,
   "metadata": {},
   "outputs": [
    {
     "name": "stdout",
     "output_type": "stream",
     "text": [
      "2019-11-22 17:33:56.596959\n"
     ]
    }
   ],
   "source": [
    "print(start)"
   ]
  },
  {
   "cell_type": "markdown",
   "metadata": {},
   "source": [
    "# RDF Sinopia Harvest on Stage\n",
    "## 2019-11-22 17:33:56.596959\n"
   ]
  },
  {
   "cell_type": "code",
   "execution_count": 5,
   "metadata": {},
   "outputs": [
    {
     "name": "stdout",
     "output_type": "stream",
     "text": [
      "Starting Harvest of https://trellis.stage.sinopia.io/repository at 2019-11-22 17:39:20.614261\n",
      "Institution URI https://trellis.stage.sinopia.io/repository/tamu\n",
      "......Finished with 5\n",
      "Institution URI https://trellis.stage.sinopia.io/repository/michigan\n",
      "..Finished with 1\n",
      "Institution URI https://trellis.stage.sinopia.io/repository/yale\n",
      ".......................................................................Finished with 70\n",
      "Institution URI https://trellis.stage.sinopia.io/repository/minnesota\n",
      ".........Finished with 8\n",
      "Institution URI https://trellis.stage.sinopia.io/repository/nlm\n",
      "....Finished with 3\n",
      "Institution URI https://trellis.stage.sinopia.io/repository/boulder\n",
      ".................Finished with 16\n",
      "Institution URI https://trellis.stage.sinopia.io/repository/ucdavis\n",
      ".......Finished with 6\n",
      "Institution URI https://trellis.stage.sinopia.io/repository/chicago\n",
      "..........Finished with 9\n",
      "Institution URI https://trellis.stage.sinopia.io/repository/ucsd\n",
      "...............................................Finished with 46\n",
      "Institution URI https://trellis.stage.sinopia.io/repository/cornell\n",
      ".....................................Finished with 36\n",
      "Institution URI https://trellis.stage.sinopia.io/repository/northwestern\n",
      "......Finished with 5\n",
      "Institution URI https://trellis.stage.sinopia.io/repository/frick\n",
      ".............................................................................................................Finished with 108\n",
      "Institution URI https://trellis.stage.sinopia.io/repository/stanford\n",
      "..................................................................................................................................................Finished with 145\n",
      "Institution URI https://trellis.stage.sinopia.io/repository/pcc\n",
      "....Finished with 3\n",
      "Institution URI https://trellis.stage.sinopia.io/repository/penn\n",
      "..............................Finished with 29\n",
      "Institution URI https://trellis.stage.sinopia.io/repository/alberta\n",
      "....................................Finished with 35\n",
      "Institution URI https://trellis.stage.sinopia.io/repository/washington\n",
      "......Finished with 5\n",
      "Institution URI https://trellis.stage.sinopia.io/repository/princeton\n",
      "...........Finished with 10\n",
      "Institution URI https://trellis.stage.sinopia.io/repository/harvard\n",
      "..........................................................Finished with 57\n",
      "Institution URI https://trellis.stage.sinopia.io/repository/duke\n",
      "Finished with 57\n",
      "Institution URI https://trellis.stage.sinopia.io/repository/hrc\n",
      "............Finished with 11\n",
      "Institution URI https://trellis.stage.sinopia.io/repository/dlc\n",
      "....Finished with 3\n",
      "Finished Harvesting at 2019-11-22 17:43:32.795232, total time: 252 seconds, \n",
      "    Test size 134\n",
      "    Training 498\n",
      "Harvesting Resource Templates for https://trellis.stage.sinopia.io/repository/ld4p at 2019-11-22 17:43:32.795430\n",
      "0...........................................................................................................................................................................................................................................................................................................................................................................................................................................................................................................................................................................................................................................................................................................................................................................................................................................................................Finished harvesting 844 from https://trellis.stage.sinopia.io/repository/ld4p at 2019-11-22 17:48:57.744026]\n",
      "Total time 5.4\n"
     ]
    }
   ],
   "source": [
    "test, training, home = harvest_trellis()\n",
    "stage_rts = harvest_trellis_rts()"
   ]
  },
  {
   "cell_type": "code",
   "execution_count": 9,
   "metadata": {},
   "outputs": [
    {
     "name": "stdout",
     "output_type": "stream",
     "text": [
      "Started save of 844 Resource Templates\n",
      "..................................Finished at 2019-11-22 17:54:44.979376, total time 0\n"
     ]
    }
   ],
   "source": [
    "save_ttl(\"/Users/jpnelson/2019/sinopia-data\", \"train\", training)\n",
    "save_ttl(\"/Users/jpnelson/2019/sinopia-data\", \"test\", test)\n",
    "save_rts(\"/Users/jpnelson/2019/sinopia-data\", stage_rts)"
   ]
  },
  {
   "cell_type": "code",
   "execution_count": 10,
   "metadata": {},
   "outputs": [
    {
     "name": "stdout",
     "output_type": "stream",
     "text": [
      "Start size 0\n",
      "After test size is 7137\n",
      "After training total size is 34003\n"
     ]
    }
   ],
   "source": [
    "stage_graph = rdflib.Graph()\n",
    "print(f\"Start size {len(stage_graph)}\")\n",
    "for row in test:\n",
    "    stage_graph.parse(data=row, format='turtle')\n",
    "print(f\"After test size is {len(stage_graph)}\")\n",
    "for row in training:\n",
    "    stage_graph.parse(data=row, format='turtle')\n",
    "print(f\"After training total size is {len(stage_graph)}\")"
   ]
  },
  {
   "cell_type": "code",
   "execution_count": 12,
   "metadata": {},
   "outputs": [],
   "source": [
    "sinopia_rt = rdflib.URIRef(\"http://sinopia.io/vocabulary/hasResourceTemplate\")\n",
    "delete_rt = rdflib.Literal(\"UCSD:RT:bf2:Monograph:Item_OpenAccess\")"
   ]
  },
  {
   "cell_type": "code",
   "execution_count": 14,
   "metadata": {},
   "outputs": [
    {
     "name": "stdout",
     "output_type": "stream",
     "text": [
      ".............................................................................................................................................................................................................................................................................................................................................................................................................................................................................................................................................................................................................................................................................................................................................................................................................................................................................................................................................................................................................................................................................................................................................................................................................................................................................................................................................................................................................................................................................................................................................................................................................................................................................................................................................................................................................................................................................................................................................................................................................................................................................................................................................."
     ]
    }
   ],
   "source": [
    "for s,o in stage_graph.subject_objects(predicate=sinopia_rt):\n",
    "    if o == delete_rt:\n",
    "        print(s)\n",
    "    else:\n",
    "        print(\".\", end=\"\")"
   ]
  },
  {
   "cell_type": "markdown",
   "metadata": {},
   "source": [
    "# RDF Sinopia Harvest on Stage\n",
    "## 2019-11-08 17:37:53.440412"
   ]
  },
  {
   "cell_type": "markdown",
   "metadata": {},
   "source": [
    "### Staging"
   ]
  },
  {
   "cell_type": "code",
   "execution_count": 20,
   "metadata": {},
   "outputs": [
    {
     "name": "stdout",
     "output_type": "stream",
     "text": [
      "Starting Harvest of https://trellis.stage.sinopia.io/repository at 2019-11-08 17:49:34.461056\n",
      "Institution URI https://trellis.stage.sinopia.io/repository/michigan\n",
      "..Finished with 1\n",
      "Institution URI https://trellis.stage.sinopia.io/repository/boulder\n",
      ".................Finished with 16\n",
      "Institution URI https://trellis.stage.sinopia.io/repository/frick\n",
      ".....................Finished with 20\n",
      "Institution URI https://trellis.stage.sinopia.io/repository/penn\n",
      "..............................Finished with 29\n",
      "Institution URI https://trellis.stage.sinopia.io/repository/duke\n",
      "Finished with 29\n",
      "Institution URI https://trellis.stage.sinopia.io/repository/nlm\n",
      "...Finished with 2\n",
      "Institution URI https://trellis.stage.sinopia.io/repository/northwestern\n",
      "...Finished with 2\n",
      "Institution URI https://trellis.stage.sinopia.io/repository/pcc\n",
      "...Finished with 2\n",
      "Institution URI https://trellis.stage.sinopia.io/repository/hrc\n",
      "........Finished with 7\n",
      "Institution URI https://trellis.stage.sinopia.io/repository/alberta\n",
      "...................Finished with 18\n",
      "Institution URI https://trellis.stage.sinopia.io/repository/tamu\n",
      "......Finished with 5\n",
      "Institution URI https://trellis.stage.sinopia.io/repository/ucdavis\n",
      "......Finished with 5\n",
      "Institution URI https://trellis.stage.sinopia.io/repository/harvard\n",
      "........................................................Finished with 55\n",
      "Institution URI https://trellis.stage.sinopia.io/repository/chicago\n",
      "..........Finished with 9\n",
      "Institution URI https://trellis.stage.sinopia.io/repository/ucsd\n",
      ".....................................Finished with 36\n",
      "Institution URI https://trellis.stage.sinopia.io/repository/minnesota\n",
      ".........Finished with 8\n",
      "Institution URI https://trellis.stage.sinopia.io/repository/yale\n",
      "....................................Finished with 35\n",
      "Institution URI https://trellis.stage.sinopia.io/repository/princeton\n",
      "..........Finished with 9\n",
      "Institution URI https://trellis.stage.sinopia.io/repository/cornell\n",
      "...............................Finished with 30\n",
      "Institution URI https://trellis.stage.sinopia.io/repository/dlc\n",
      "...Finished with 2\n",
      "Institution URI https://trellis.stage.sinopia.io/repository/washington\n",
      ".....Finished with 4\n",
      "Institution URI https://trellis.stage.sinopia.io/repository/stanford\n",
      ".............................................................................................................Finished with 108\n",
      "Finished Harvesting at 2019-11-08 17:52:23.638622, total time: 169 seconds, \n",
      "    Test size 80\n",
      "    Training 344\n",
      "Harvesting Resource Templates for https://trellis.stage.sinopia.io/repository/ld4p at 2019-11-08 17:52:23.638766\n",
      "0.................................................................................................................................................................................................................................................................................................................................................................................................................................................................................................................................................................................................................................................................................................................................................................................................................................................Finished harvesting 818 from https://trellis.stage.sinopia.io/repository/ld4p at 2019-11-08 17:57:42.092291]\n",
      "Total time 5.3\n"
     ]
    }
   ],
   "source": [
    "test, training, home = harvest_trellis()\n",
    "stage_rts = harvest_trellis_rts()"
   ]
  },
  {
   "cell_type": "code",
   "execution_count": 21,
   "metadata": {},
   "outputs": [
    {
     "name": "stdout",
     "output_type": "stream",
     "text": [
      "Started save of 818 Resource Templates\n",
      ".................................Finished at 2019-11-08 18:25:46.508654, total time 0\n"
     ]
    }
   ],
   "source": [
    "save_ttl(\"/Users/jpnelson/2019/sinopia-data\", \"train\", training)\n",
    "save_ttl(\"/Users/jpnelson/2019/sinopia-data\", \"test\", test)\n",
    "save_rts(\"/Users/jpnelson/2019/sinopia-data\", stage_rts)"
   ]
  },
  {
   "cell_type": "markdown",
   "metadata": {},
   "source": [
    "### Production"
   ]
  },
  {
   "cell_type": "code",
   "execution_count": 25,
   "metadata": {},
   "outputs": [
    {
     "name": "stdout",
     "output_type": "stream",
     "text": [
      "Starting Harvest of https://trellis.sinopia.io/repository/ld4p at 2019-11-08 19:07:47.206413\n",
      "Finished Harvesting at 2019-11-08 19:10:01.042557, total time: 133 seconds, \n",
      "    Test size 0\n",
      "    Training 0\n",
      "Harvesting Resource Templates for https://trellis.sinopia.io/repository/ld4p at 2019-11-08 19:10:01.042806\n",
      "0............................................................................................................................................................................................................................................................................................................................................................Finished harvesting 349 from https://trellis.sinopia.io/repository/ld4p at 2019-11-08 19:12:19.615141]\n",
      "Total time 2.3\n"
     ]
    }
   ],
   "source": [
    "prod_test, prod_train, home = harvest_trellis('https://trellis.sinopia.io/repository/ld4p')\n",
    "prod_rts = harvest_trellis_rts('https://trellis.sinopia.io/repository/ld4p')"
   ]
  },
  {
   "cell_type": "code",
   "execution_count": 27,
   "metadata": {},
   "outputs": [
    {
     "name": "stdout",
     "output_type": "stream",
     "text": [
      "Started save of 349 Resource Templates\n",
      "..............Finished at 2019-11-08 19:16:37.870985, total time 0\n"
     ]
    }
   ],
   "source": [
    "save_ttl(\"/Users/jpnelson/2019/sinopia-data/prod\", \"train\", prod_train)\n",
    "save_ttl(\"/Users/jpnelson/2019/sinopia-data/prod\", \"test\", prod_test)\n",
    "save_rts(\"/Users/jpnelson/2019/sinopia-data/prod\", prod_rts)"
   ]
  },
  {
   "cell_type": "markdown",
   "metadata": {},
   "source": [
    "# RDF Sinopia Harvest on Stage\n",
    "## 2019-10-29 15:32:51.002907\n"
   ]
  },
  {
   "cell_type": "code",
   "execution_count": 5,
   "metadata": {},
   "outputs": [
    {
     "name": "stdout",
     "output_type": "stream",
     "text": [
      "Starting Harvest of https://trellis.stage.sinopia.io/repository at 2019-10-29 15:34:08.597105\n",
      "Institution URI https://trellis.stage.sinopia.io/repository/penn\n",
      ".............Finished with 12\n",
      "Institution URI https://trellis.stage.sinopia.io/repository/frick\n",
      "......Finished with 5\n",
      "Institution URI https://trellis.stage.sinopia.io/repository/alberta\n",
      ".............Finished with 12\n",
      "Institution URI https://trellis.stage.sinopia.io/repository/ucsd\n",
      "........Finished with 7\n",
      "Institution URI https://trellis.stage.sinopia.io/repository/dlc\n",
      "...Finished with 2\n",
      "Institution URI https://trellis.stage.sinopia.io/repository/ucdavis\n",
      "......Finished with 5\n",
      "Institution URI https://trellis.stage.sinopia.io/repository/princeton\n",
      "........Finished with 7\n",
      "Institution URI https://trellis.stage.sinopia.io/repository/tamu\n",
      "..Finished with 1\n",
      "Institution URI https://trellis.stage.sinopia.io/repository/hrc\n",
      "..Finished with 1\n",
      "Institution URI https://trellis.stage.sinopia.io/repository/yale\n",
      "...................................Finished with 34\n",
      "Institution URI https://trellis.stage.sinopia.io/repository/cornell\n",
      ".......................Finished with 22\n",
      "Institution URI https://trellis.stage.sinopia.io/repository/duke\n",
      "Finished with 22\n",
      "Institution URI https://trellis.stage.sinopia.io/repository/harvard\n",
      ".....................................................Finished with 52\n",
      "Institution URI https://trellis.stage.sinopia.io/repository/michigan\n",
      "..Finished with 1\n",
      "Institution URI https://trellis.stage.sinopia.io/repository/minnesota\n",
      "...Finished with 2\n",
      "Institution URI https://trellis.stage.sinopia.io/repository/stanford\n",
      "...............................................................Finished with 62\n",
      "Institution URI https://trellis.stage.sinopia.io/repository/chicago\n",
      "..........Finished with 9\n",
      "Institution URI https://trellis.stage.sinopia.io/repository/pcc\n",
      "...Finished with 2\n",
      "Institution URI https://trellis.stage.sinopia.io/repository/boulder\n",
      "...............Finished with 14\n",
      "Institution URI https://trellis.stage.sinopia.io/repository/northwestern\n",
      "..Finished with 1\n",
      "Institution URI https://trellis.stage.sinopia.io/repository/washington\n",
      ".....Finished with 4\n",
      "Institution URI https://trellis.stage.sinopia.io/repository/nlm\n",
      "...Finished with 2\n",
      "Finished Harvesting at 2019-10-29 15:36:04.385845, total time: 115 seconds, \n",
      "    Test size 52\n",
      "    Training 226\n",
      "Harvesting Resource Templates for https://trellis.stage.sinopia.io/repository/ld4p at 2019-10-29 15:36:04.386072\n",
      "0..............................................................................................................................................................................................................................................................................................................................................................................................................................................................................................................................................................................................................................................................................................................................................................................................Finished harvesting 767 from https://trellis.stage.sinopia.io/repository/ld4p at 2019-10-29 15:40:58.511049]\n",
      "Total time 4.9\n"
     ]
    }
   ],
   "source": [
    "test, training, home = harvest_trellis()\n",
    "stage_rts = harvest_trellis_rts()"
   ]
  },
  {
   "cell_type": "code",
   "execution_count": 6,
   "metadata": {},
   "outputs": [],
   "source": [
    "save_ttl(\"/Users/jpnelson/2019/sinopia-data\", \"train\", training)\n",
    "save_ttl(\"/Users/jpnelson/2019/sinopia-data\", \"test\", test)"
   ]
  },
  {
   "cell_type": "code",
   "execution_count": 7,
   "metadata": {},
   "outputs": [
    {
     "name": "stdout",
     "output_type": "stream",
     "text": [
      "Started save of 767 Resource Templates\n",
      "...............................Finished at 2019-10-29 16:21:02.410966, total time 0\n"
     ]
    }
   ],
   "source": [
    "save_rts(\"/Users/jpnelson/2019/sinopia-data\", stage_rts)"
   ]
  },
  {
   "cell_type": "markdown",
   "metadata": {},
   "source": [
    "# RDF Sinopia Harvest on Stage\n",
    "## 2019-10-24 21:25:23.248357"
   ]
  },
  {
   "cell_type": "code",
   "execution_count": 4,
   "metadata": {},
   "outputs": [
    {
     "name": "stdout",
     "output_type": "stream",
     "text": [
      "Starting Harvest of https://trellis.stage.sinopia.io/repository at 2019-10-24 21:26:18.730170\n",
      "Institution URI https://trellis.stage.sinopia.io/repository/chicago\n",
      "..........Finished with 9\n",
      "Institution URI https://trellis.stage.sinopia.io/repository/alberta\n",
      "..........Finished with 9\n",
      "Institution URI https://trellis.stage.sinopia.io/repository/harvard\n",
      "....................................................Finished with 51\n",
      "Institution URI https://trellis.stage.sinopia.io/repository/pcc\n",
      "...Finished with 2\n",
      "Institution URI https://trellis.stage.sinopia.io/repository/ucsd\n",
      "..Finished with 1\n",
      "Institution URI https://trellis.stage.sinopia.io/repository/dlc\n",
      "...Finished with 2\n",
      "Institution URI https://trellis.stage.sinopia.io/repository/michigan\n",
      "..Finished with 1\n",
      "Institution URI https://trellis.stage.sinopia.io/repository/penn\n",
      "............Finished with 11\n",
      "Institution URI https://trellis.stage.sinopia.io/repository/cornell\n",
      "..................Finished with 17\n",
      "Institution URI https://trellis.stage.sinopia.io/repository/ucdavis\n",
      "......Finished with 5\n",
      "Institution URI https://trellis.stage.sinopia.io/repository/princeton\n",
      "........Finished with 7\n",
      "Institution URI https://trellis.stage.sinopia.io/repository/boulder\n",
      "...............Finished with 14\n",
      "Institution URI https://trellis.stage.sinopia.io/repository/nlm\n",
      "...Finished with 2\n",
      "Institution URI https://trellis.stage.sinopia.io/repository/duke\n",
      "Finished with 2\n",
      "Institution URI https://trellis.stage.sinopia.io/repository/minnesota\n",
      "...Finished with 2\n",
      "Institution URI https://trellis.stage.sinopia.io/repository/frick\n",
      "......Finished with 5\n",
      "Institution URI https://trellis.stage.sinopia.io/repository/stanford\n",
      "......................................................Finished with 53\n",
      "Institution URI https://trellis.stage.sinopia.io/repository/yale\n",
      "................................Finished with 31\n",
      "Institution URI https://trellis.stage.sinopia.io/repository/northwestern\n",
      "..Finished with 1\n",
      "Institution URI https://trellis.stage.sinopia.io/repository/washington\n",
      ".....Finished with 4\n",
      "Institution URI https://trellis.stage.sinopia.io/repository/hrc\n",
      "..Finished with 1\n",
      "Institution URI https://trellis.stage.sinopia.io/repository/tamu\n",
      "..Finished with 1\n",
      "Finished Harvesting at 2019-10-24 21:28:03.340026, total time: 104 seconds, \n",
      "    Test size 53\n",
      "    Training 197\n"
     ]
    }
   ],
   "source": [
    "test, training, home = harvest_trellis)"
   ]
  },
  {
   "cell_type": "code",
   "execution_count": null,
   "metadata": {},
   "outputs": [],
   "source": [
    "save_ttl(\"/Users/jpnelson/2019/sinopia-data\", \"train\", training)\n",
    "save_ttl(\"/Users/jpnelson/2019/sinopia-data\", \"test\", test)"
   ]
  },
  {
   "cell_type": "code",
   "execution_count": null,
   "metadata": {},
   "outputs": [
    {
     "name": "stdout",
     "output_type": "stream",
     "text": [
      "Harvesting Resource Templates for https://trellis.stage.sinopia.io/repository/ld4p at 2019-10-24 21:30:19.252080\n",
      "0......................................................................................................................................."
     ]
    }
   ],
   "source": [
    "stage_rts = harvest_trellis_rts()\n",
    "save_rts(\"/Users/jpnelson/2019/sinopia-data\", stage_rts)"
   ]
  },
  {
   "cell_type": "markdown",
   "metadata": {},
   "source": [
    "# RDF Sinopia Harvest on Stage\n",
    "## 2019-10-14 18:07:12.823309"
   ]
  },
  {
   "cell_type": "code",
   "execution_count": 4,
   "metadata": {},
   "outputs": [
    {
     "name": "stdout",
     "output_type": "stream",
     "text": [
      "Starting Harvest of https://trellis.stage.sinopia.io/repository at 2019-10-14 18:08:20.995250\n",
      "Institution URI https://trellis.stage.sinopia.io/repository/pcc\n",
      "..Finished with 1\n",
      "Institution URI https://trellis.stage.sinopia.io/repository/yale\n",
      ".................Finished with 16\n",
      "Institution URI https://trellis.stage.sinopia.io/repository/dlc\n",
      "...Finished with 2\n",
      "Institution URI https://trellis.stage.sinopia.io/repository/penn\n",
      "....Finished with 3\n",
      "Institution URI https://trellis.stage.sinopia.io/repository/alberta\n",
      "...Finished with 2\n",
      "Institution URI https://trellis.stage.sinopia.io/repository/frick\n",
      ".Finished with 0\n",
      "Institution URI https://trellis.stage.sinopia.io/repository/princeton\n",
      ".......Finished with 6\n",
      "Institution URI https://trellis.stage.sinopia.io/repository/tamu\n",
      "..Finished with 1\n",
      "Institution URI https://trellis.stage.sinopia.io/repository/ucdavis\n",
      ".....Finished with 4\n",
      "Institution URI https://trellis.stage.sinopia.io/repository/cornell\n",
      "............Finished with 11\n",
      "Institution URI https://trellis.stage.sinopia.io/repository/minnesota\n",
      "Finished with 11\n",
      "Institution URI https://trellis.stage.sinopia.io/repository/hrc\n",
      ".Finished with 0\n",
      "Institution URI https://trellis.stage.sinopia.io/repository/ucsd\n",
      "..Finished with 1\n",
      "Institution URI https://trellis.stage.sinopia.io/repository/chicago\n",
      ".Finished with 0\n",
      "Institution URI https://trellis.stage.sinopia.io/repository/harvard\n",
      ".................................................Finished with 48\n",
      "Institution URI https://trellis.stage.sinopia.io/repository/nlm\n",
      ".Finished with 0\n",
      "Institution URI https://trellis.stage.sinopia.io/repository/stanford\n",
      "......................Finished with 21\n",
      "Institution URI https://trellis.stage.sinopia.io/repository/northwestern\n",
      "..Finished with 1\n",
      "Institution URI https://trellis.stage.sinopia.io/repository/boulder\n",
      "...............Finished with 14\n",
      "Institution URI https://trellis.stage.sinopia.io/repository/washington\n",
      ".....Finished with 4\n",
      "Institution URI https://trellis.stage.sinopia.io/repository/duke\n",
      "Finished with 4\n",
      "Institution URI https://trellis.stage.sinopia.io/repository/michigan\n",
      "..Finished with 1\n",
      "Finished Harvesting at 2019-10-14 18:09:25.123426, total time: 64 seconds, \n",
      "    Test size 33\n",
      "    Training 123\n"
     ]
    }
   ],
   "source": [
    "test, training, home = harvest_trellis()"
   ]
  },
  {
   "cell_type": "code",
   "execution_count": 11,
   "metadata": {},
   "outputs": [],
   "source": [
    "save_ttl(\"/Users/jpnelson/2019/sinopia-data\", \"train\", training)\n",
    "save_ttl(\"/Users/jpnelson/2019/sinopia-data\", \"test\", test)"
   ]
  },
  {
   "cell_type": "code",
   "execution_count": 15,
   "metadata": {},
   "outputs": [
    {
     "name": "stdout",
     "output_type": "stream",
     "text": [
      "Harvesting Resource Templates for https://trellis.stage.sinopia.io/repository/ld4p at 2019-10-14 18:26:11.483249\n",
      "0.........................................................................................................................................................................................................................................................................................................................................................................................................................................................................................................................................................................................................................................................................................................................................Finished harvesting 714 from https://trellis.stage.sinopia.io/repository/ld4p at 2019-10-14 18:30:38.171775]\n",
      "Total time 4.433333333333334\n"
     ]
    }
   ],
   "source": [
    "stage_rts = harvest_trellis_rts()"
   ]
  },
  {
   "cell_type": "code",
   "execution_count": 17,
   "metadata": {},
   "outputs": [
    {
     "name": "stdout",
     "output_type": "stream",
     "text": [
      "Started save of 714 Resource Templates\n",
      ".............................Finished at 2019-10-14 18:31:27.414453, total time 0\n"
     ]
    }
   ],
   "source": [
    "save_rts(\"/Users/jpnelson/2019/sinopia-data\", stage_rts)"
   ]
  },
  {
   "cell_type": "markdown",
   "metadata": {},
   "source": [
    "# RDF Sinopia Harvest on Stage\n",
    "## 2019-10-03 18:20:34.077127"
   ]
  },
  {
   "cell_type": "code",
   "execution_count": 15,
   "metadata": {},
   "outputs": [
    {
     "name": "stdout",
     "output_type": "stream",
     "text": [
      "Starting Harvest of https://trellis.stage.sinopia.io/repository at 2019-10-03 20:17:55.992259\n",
      "Institution URI https://trellis.stage.sinopia.io/repository/princeton\n",
      ".......Finished with 6\n",
      "Institution URI https://trellis.stage.sinopia.io/repository/dlc\n",
      "...Finished with 2\n",
      "Institution URI https://trellis.stage.sinopia.io/repository/duke\n",
      "Finished with 2\n",
      "Institution URI https://trellis.stage.sinopia.io/repository/washington\n",
      ".....Finished with 4\n",
      "Institution URI https://trellis.stage.sinopia.io/repository/nlm\n",
      ".Finished with 0\n",
      "Institution URI https://trellis.stage.sinopia.io/repository/stanford\n",
      "...............Finished with 14\n",
      "Institution URI https://trellis.stage.sinopia.io/repository/yale\n",
      ".................Finished with 16\n",
      "Institution URI https://trellis.stage.sinopia.io/repository/pcc\n",
      "..Finished with 1\n",
      "Institution URI https://trellis.stage.sinopia.io/repository/michigan\n",
      "..Finished with 1\n",
      "Institution URI https://trellis.stage.sinopia.io/repository/chicago\n",
      ".Finished with 0\n",
      "Institution URI https://trellis.stage.sinopia.io/repository/frick\n",
      ".Finished with 0\n",
      "Institution URI https://trellis.stage.sinopia.io/repository/penn\n",
      "...Finished with 2\n",
      "Institution URI https://trellis.stage.sinopia.io/repository/ucsd\n",
      "..Finished with 1\n",
      "Institution URI https://trellis.stage.sinopia.io/repository/ucdavis\n",
      ".....Finished with 4\n",
      "Institution URI https://trellis.stage.sinopia.io/repository/cornell\n",
      "...........Finished with 10\n",
      "Institution URI https://trellis.stage.sinopia.io/repository/northwestern\n",
      "..Finished with 1\n",
      "Institution URI https://trellis.stage.sinopia.io/repository/hrc\n",
      ".Finished with 0\n",
      "Institution URI https://trellis.stage.sinopia.io/repository/boulder\n",
      "..............Finished with 13\n",
      "Institution URI https://trellis.stage.sinopia.io/repository/alberta\n",
      "...Finished with 2\n",
      "Institution URI https://trellis.stage.sinopia.io/repository/minnesota\n",
      "Finished with 2\n",
      "Institution URI https://trellis.stage.sinopia.io/repository/harvard\n",
      ".............................................Finished with 44\n",
      "Institution URI https://trellis.stage.sinopia.io/repository/tamu\n",
      "..Finished with 1\n",
      "Finished Harvesting at 2019-10-03 20:18:21.912579, total time: 25 seconds, \n",
      "    Test size 29\n",
      "    Training 113\n"
     ]
    }
   ],
   "source": [
    "test, training, home = harvest_trellis()"
   ]
  },
  {
   "cell_type": "code",
   "execution_count": 16,
   "metadata": {},
   "outputs": [
    {
     "name": "stdout",
     "output_type": "stream",
     "text": [
      "Harvesting Resource Templates for https://trellis.stage.sinopia.io/repository/ld4p at 2019-10-03 20:18:25.631349\n",
      "0....................................................................................................................................................................................................................................................................................................................................................................................................................................................................................................................................................................................................................................................................................Finished harvesting 661 from https://trellis.stage.sinopia.io/repository/ld4p at 2019-10-03 20:20:12.703037]\n",
      "Total time 1.7833333333333334\n"
     ]
    }
   ],
   "source": [
    "stage_rts = harvest_trellis_rts()"
   ]
  },
  {
   "cell_type": "code",
   "execution_count": 9,
   "metadata": {},
   "outputs": [
    {
     "name": "stdout",
     "output_type": "stream",
     "text": [
      "30 111 661\n"
     ]
    }
   ],
   "source": [
    "print(len(test),len(training), len(stage_rts))"
   ]
  },
  {
   "cell_type": "markdown",
   "metadata": {},
   "source": [
    "## Production"
   ]
  },
  {
   "cell_type": "code",
   "execution_count": 14,
   "metadata": {},
   "outputs": [
    {
     "name": "stdout",
     "output_type": "stream",
     "text": [
      "Starting Harvest of https://trellis.sinopia.io/repository/ld4p at 2019-10-03 20:15:48.898723\n",
      "Finished Harvesting at 2019-10-03 20:16:23.951683, total time: 35 seconds, \n",
      "    Test size 0\n",
      "    Training 0\n"
     ]
    }
   ],
   "source": [
    "test, training, home = harvest_trellis('https://trellis.sinopia.io/repository/ld4p')"
   ]
  },
  {
   "cell_type": "code",
   "execution_count": 12,
   "metadata": {},
   "outputs": [
    {
     "data": {
      "text/plain": [
       "-1"
      ]
     },
     "execution_count": 12,
     "metadata": {},
     "output_type": "execute_result"
    }
   ],
   "source": [
    "'https://trellis.sinopia.io/repository/ld4p'.find(\"more\")"
   ]
  },
  {
   "cell_type": "markdown",
   "metadata": {},
   "source": [
    "# RDF Sinopia Harvest on Stage\n",
    "## 2019-09-24 15:27:55.652209"
   ]
  },
  {
   "cell_type": "code",
   "execution_count": 9,
   "metadata": {},
   "outputs": [
    {
     "name": "stdout",
     "output_type": "stream",
     "text": [
      "Starting Harvest of https://trellis.stage.sinopia.io/repository at 2019-09-24 15:32:49.770525\n",
      "Institution URI https://trellis.stage.sinopia.io/repository/tamu\n",
      "..Finished with 1\n",
      "Institution URI https://trellis.stage.sinopia.io/repository/ucdavis\n",
      ".....Finished with 4\n",
      "Institution URI https://trellis.stage.sinopia.io/repository/duke\n",
      "Finished with 4\n",
      "Institution URI https://trellis.stage.sinopia.io/repository/michigan\n",
      "..Finished with 1\n",
      "Institution URI https://trellis.stage.sinopia.io/repository/pcc\n",
      "..Finished with 1\n",
      "Institution URI https://trellis.stage.sinopia.io/repository/stanford\n",
      "...............Finished with 14\n",
      "Institution URI https://trellis.stage.sinopia.io/repository/cornell\n",
      "...........Finished with 10\n",
      "Institution URI https://trellis.stage.sinopia.io/repository/frick\n",
      ".Finished with 0\n",
      "Institution URI https://trellis.stage.sinopia.io/repository/hrc\n",
      ".Finished with 0\n",
      "Institution URI https://trellis.stage.sinopia.io/repository/nlm\n",
      ".Finished with 0\n",
      "Institution URI https://trellis.stage.sinopia.io/repository/washington\n",
      ".....Finished with 4\n",
      "Institution URI https://trellis.stage.sinopia.io/repository/princeton\n",
      ".......Finished with 6\n",
      "Institution URI https://trellis.stage.sinopia.io/repository/penn\n",
      "..Finished with 1\n",
      "Institution URI https://trellis.stage.sinopia.io/repository/alberta\n",
      "...Finished with 2\n",
      "Institution URI https://trellis.stage.sinopia.io/repository/northwestern\n",
      "..Finished with 1\n",
      "Institution URI https://trellis.stage.sinopia.io/repository/ucsd\n",
      "..Finished with 1\n",
      "Institution URI https://trellis.stage.sinopia.io/repository/minnesota\n",
      "Finished with 1\n",
      "Institution URI https://trellis.stage.sinopia.io/repository/harvard\n",
      ".........................................Finished with 40\n",
      "Institution URI https://trellis.stage.sinopia.io/repository/dlc\n",
      "...Finished with 2\n",
      "Institution URI https://trellis.stage.sinopia.io/repository/boulder\n",
      ".....Finished with 4\n",
      "Institution URI https://trellis.stage.sinopia.io/repository/yale\n",
      ".................Finished with 16\n",
      "Institution URI https://trellis.stage.sinopia.io/repository/chicago\n",
      "Finished with 16\n",
      "Finished Harvesting at 2019-09-24 15:33:42.393021, total time: 52 seconds, \n",
      "    Test size 26\n",
      "    Training 101\n"
     ]
    }
   ],
   "source": [
    "test, training, home = harvest_trellis()"
   ]
  },
  {
   "cell_type": "code",
   "execution_count": 10,
   "metadata": {},
   "outputs": [
    {
     "name": "stdout",
     "output_type": "stream",
     "text": [
      "Harvesting Resource Templates for https://trellis.stage.sinopia.io/repository/ld4p at 2019-09-24 15:38:27.940804\n",
      "0.....................................................................................................................................................................................................................................................................................................................................................................................................................................................................................................................................................................................................................................Finished harvesting 614 from https://trellis.stage.sinopia.io/repository/ld4p at 2019-09-24 15:42:10.759376]\n",
      "Total time 3.7\n"
     ]
    }
   ],
   "source": [
    "stage_rts = harvest_trellis_rts()"
   ]
  },
  {
   "cell_type": "code",
   "execution_count": 11,
   "metadata": {},
   "outputs": [],
   "source": [
    "save_ttl(\"/Users/jpnelson/2019/sinopia-data\", \"train\", training)\n",
    "save_ttl(\"/Users/jpnelson/2019/sinopia-data\", \"test\", test)"
   ]
  },
  {
   "cell_type": "code",
   "execution_count": 16,
   "metadata": {},
   "outputs": [
    {
     "name": "stdout",
     "output_type": "stream",
     "text": [
      "Started save of 614 Resource Templates\n",
      ".........................Finished at 2019-09-24 17:28:21.058932, total time 6938\n"
     ]
    }
   ],
   "source": [
    "save_rts(\"/Users/jpnelson/2019/sinopia-data\", stage_rts)"
   ]
  },
  {
   "cell_type": "markdown",
   "metadata": {},
   "source": [
    "# RDF Sinopia Harvest on Stage\n",
    "## 2019-09-09 23:44:53.286982\n"
   ]
  },
  {
   "cell_type": "code",
   "execution_count": 20,
   "metadata": {},
   "outputs": [
    {
     "name": "stdout",
     "output_type": "stream",
     "text": [
      "Starting Harvest of https://trellis.stage.sinopia.io/repository at 2019-09-10 00:02:00.095830\n",
      "Institution URI https://trellis.stage.sinopia.io/repository/yale\n",
      ".................Finished with 16\n",
      "Institution URI https://trellis.stage.sinopia.io/repository/cornell\n",
      "...........Finished with 10\n",
      "Institution URI https://trellis.stage.sinopia.io/repository/washington\n",
      "....Finished with 3\n",
      "Institution URI https://trellis.stage.sinopia.io/repository/ucdavis\n",
      "....Finished with 3\n",
      "Institution URI https://trellis.stage.sinopia.io/repository/nlm\n",
      ".Finished with 0\n",
      "Institution URI https://trellis.stage.sinopia.io/repository/northwestern\n",
      "..Finished with 1\n",
      "Institution URI https://trellis.stage.sinopia.io/repository/frick\n",
      ".Finished with 0\n",
      "Institution URI https://trellis.stage.sinopia.io/repository/hrc\n",
      ".Finished with 0\n",
      "Institution URI https://trellis.stage.sinopia.io/repository/boulder\n",
      ".Finished with 0\n",
      "Institution URI https://trellis.stage.sinopia.io/repository/duke\n",
      "Finished with 0\n",
      "Institution URI https://trellis.stage.sinopia.io/repository/princeton\n",
      ".......Finished with 6\n",
      "Institution URI https://trellis.stage.sinopia.io/repository/chicago\n",
      "Finished with 6\n",
      "Institution URI https://trellis.stage.sinopia.io/repository/minnesota\n",
      "Finished with 6\n",
      "Institution URI https://trellis.stage.sinopia.io/repository/michigan\n",
      "..Finished with 1\n",
      "Institution URI https://trellis.stage.sinopia.io/repository/alberta\n",
      "..Finished with 1\n",
      "Institution URI https://trellis.stage.sinopia.io/repository/pcc\n",
      "..Finished with 1\n",
      "Institution URI https://trellis.stage.sinopia.io/repository/ucsd\n",
      "..Finished with 1\n",
      "Institution URI https://trellis.stage.sinopia.io/repository/harvard\n",
      "...............Finished with 14\n",
      "Institution URI https://trellis.stage.sinopia.io/repository/tamu\n",
      "..Finished with 1\n",
      "Institution URI https://trellis.stage.sinopia.io/repository/stanford\n",
      ".........Finished with 8\n",
      "Institution URI https://trellis.stage.sinopia.io/repository/penn\n",
      "..Finished with 1\n",
      "Institution URI https://trellis.stage.sinopia.io/repository/dlc\n",
      "...Finished with 2\n",
      "Finished Harvesting at 2019-09-10 00:02:37.780755, total time: 37 seconds, \n",
      "    Test size 20\n",
      "    Training 68\n"
     ]
    }
   ],
   "source": [
    "test, training, home = harvest_trellis()"
   ]
  },
  {
   "cell_type": "code",
   "execution_count": 22,
   "metadata": {},
   "outputs": [],
   "source": [
    "save_ttl(\"/Users/jpnelson/2019/sinopia-data\", \"train\", training)\n",
    "save_ttl(\"/Users/jpnelson/2019/sinopia-data\", \"test\", test)"
   ]
  },
  {
   "cell_type": "code",
   "execution_count": 11,
   "metadata": {},
   "outputs": [
    {
     "name": "stdout",
     "output_type": "stream",
     "text": [
      "Harvesting Resource Templates for https://trellis.stage.sinopia.io/repository/ld4p at 2019-09-09 23:49:19.349898\n",
      "0.......................................................................................................................................................................................................................................................................................................................................................................................................................................................................................................................................................................................................................................................................................................................................................................................................................................................................................................................................................................................................................................1,000....................................................................................Finished harvesting 1,085 from https://trellis.stage.sinopia.io/repository/ld4p at 2019-09-09 23:55:44.493869]\n",
      "Total time 6.416666666666667\n"
     ]
    }
   ],
   "source": [
    "stage_rts = harvest_trellis_rts()"
   ]
  },
  {
   "cell_type": "code",
   "execution_count": 14,
   "metadata": {},
   "outputs": [
    {
     "name": "stdout",
     "output_type": "stream",
     "text": [
      "0........................25........................50........................75........................100........................125........................150........................175........................200........................225........................250........................275........................300........................325........................350........................375........................400........................425........................450........................475........................500........................525........................550........................575........................600............Error with 613\n",
      "...........625........................650........................675........................700........................725........................750........................775........................800........................825........................850Error with 851\n",
      ".......................875........................900........................925........................950........................975........................1,000........Error with 1,009\n",
      "...............1,025........................1,050.............Error with 1,064\n",
      "..........1,075........."
     ]
    }
   ],
   "source": [
    "for i,row in enumerate(stage_rts):\n",
    "    try:\n",
    "        rt = json.loads(row)\n",
    "    except:\n",
    "        print(f\"Error with {i:,}\")\n",
    "        continue\n",
    "    with open(f\"/Users/jpnelson/2019/sinopia-data/2019/09/09/resource_templates/rt-{i:05d}.json\", \"w+\") as fo:\n",
    "        json.dump(rt, fo, indent=2, sort_keys=True)\n",
    "    if not i%25:\n",
    "        print(f\"{i:,}\", end=\"\")\n",
    "    else:\n",
    "        print(\".\", end=\"\")"
   ]
  },
  {
   "cell_type": "markdown",
   "metadata": {},
   "source": [
    "# RDF Sinopia Harvest\n",
    "## 2019-08-29 18:37:13.564139"
   ]
  },
  {
   "cell_type": "code",
   "execution_count": 84,
   "metadata": {},
   "outputs": [
    {
     "name": "stdout",
     "output_type": "stream",
     "text": [
      "Starting Harvest of https://trellis.stage.sinopia.io/repository at 2019-08-29 19:28:48.428878\n",
      "Institution URI https://trellis.stage.sinopia.io/repository/ucdavis\n",
      "....Finished with 3\n",
      "Institution URI https://trellis.stage.sinopia.io/repository/harvard\n",
      "...............Finished with 14\n",
      "Institution URI https://trellis.stage.sinopia.io/repository/ucsd\n",
      "..Finished with 1\n",
      "Institution URI https://trellis.stage.sinopia.io/repository/washington\n",
      "...Finished with 2\n",
      "Institution URI https://trellis.stage.sinopia.io/repository/dlc\n",
      "Finished with 2\n",
      "Institution URI https://trellis.stage.sinopia.io/repository/princeton\n",
      ".......Finished with 6\n",
      "Institution URI https://trellis.stage.sinopia.io/repository/yale\n",
      "...Finished with 2\n",
      "Institution URI https://trellis.stage.sinopia.io/repository/pcc\n",
      "..Finished with 1\n",
      "Institution URI https://trellis.stage.sinopia.io/repository/michigan\n",
      "..Finished with 1\n",
      "Institution URI https://trellis.stage.sinopia.io/repository/northwestern\n",
      "..Finished with 1\n",
      "Institution URI https://trellis.stage.sinopia.io/repository/alberta\n",
      "..Finished with 1\n",
      "Institution URI https://trellis.stage.sinopia.io/repository/boulder\n",
      ".Finished with 0\n",
      "Institution URI https://trellis.stage.sinopia.io/repository/stanford\n",
      "........Finished with 7\n",
      "Institution URI https://trellis.stage.sinopia.io/repository/minnesota\n",
      "Finished with 7\n",
      "Institution URI https://trellis.stage.sinopia.io/repository/cornell\n",
      "......Finished with 5\n",
      "Institution URI https://trellis.stage.sinopia.io/repository/duke\n",
      "Finished with 5\n",
      "Institution URI https://trellis.stage.sinopia.io/repository/nlm\n",
      ".Finished with 0\n",
      "Institution URI https://trellis.stage.sinopia.io/repository/chicago\n",
      "Finished with 0\n",
      "Institution URI https://trellis.stage.sinopia.io/repository/penn\n",
      ".Finished with 0\n",
      "Institution URI https://trellis.stage.sinopia.io/repository/tamu\n",
      "..Finished with 1\n",
      "Institution URI https://trellis.stage.sinopia.io/repository/frick\n",
      ".Finished with 0\n",
      "Institution URI https://trellis.stage.sinopia.io/repository/hrc\n",
      ".Finished with 0\n",
      "Finished Harvesting at 2019-08-29 19:29:17.806363, total time: 29 seconds, \n",
      "    Test size 18\n",
      "    Training 45\n"
     ]
    }
   ],
   "source": [
    "test, training, home = harvest_trellis()"
   ]
  },
  {
   "cell_type": "code",
   "execution_count": 77,
   "metadata": {},
   "outputs": [
    {
     "name": "stdout",
     "output_type": "stream",
     "text": [
      "Harvesting Resource Templates for https://trellis.stage.sinopia.io/repository/ld4p\n",
      "..................................................................................................................................................................................................................................................................................................................................................................................................................................................................................................................................................................................................................................................................................................................................................................................................................................................................................................................................................................................................................................................Finished harvesting {len(resource_templates):,} from {ld4p_url} at {end}]\n",
      "Total time {((end-start).seconds / 60):,}\n"
     ]
    }
   ],
   "source": [
    "rts = harvest_trellis_rts()"
   ]
  },
  {
   "cell_type": "code",
   "execution_count": 85,
   "metadata": {},
   "outputs": [],
   "source": [
    "save_ttl(\"/Users/jpnelson/2019/sinopia-data\", \"train\", training)\n",
    "save_ttl(\"/Users/jpnelson/2019/sinopia-data\", \"test\", test)"
   ]
  },
  {
   "cell_type": "code",
   "execution_count": 96,
   "metadata": {},
   "outputs": [
    {
     "name": "stdout",
     "output_type": "stream",
     "text": [
      "0........................25........................50........................75........................100........................125........................150.....Error with 156\n",
      "..................175........................200........................225........................250........................275........................300........................325........................350........................375........................400........................425........................450........................475........................500........................525........................550........................575........................600........................625........................650........................675........................700........................725........................750........................775........................800........................825........................850........................875........................900........................925........................950........................975........................1,000........."
     ]
    }
   ],
   "source": [
    "for i,row in enumerate(rts):\n",
    "    try:\n",
    "        rt = json.loads(row)\n",
    "    except:\n",
    "        print(f\"Error with {i:,}\")\n",
    "        continue\n",
    "    with open(f\"/Users/jpnelson/2019/sinopia-data/2019/08/29/resource_templates/rt-{i:05d}.json\", \"w+\") as fo:\n",
    "        json.dump(rt, fo, indent=2, sort_keys=True)\n",
    "    if not i%25:\n",
    "        print(f\"{i:,}\", end=\"\")\n",
    "    else:\n",
    "        print(\".\", end=\"\")\n",
    " "
   ]
  },
  {
   "cell_type": "code",
   "execution_count": 97,
   "metadata": {},
   "outputs": [
    {
     "data": {
      "text/plain": [
       "''"
      ]
     },
     "execution_count": 97,
     "metadata": {},
     "output_type": "execute_result"
    }
   ],
   "source": [
    "rts[156]"
   ]
  },
  {
   "cell_type": "markdown",
   "metadata": {},
   "source": [
    "# RDF Sinopia Harvest\n",
    "## 2019-08-28 16:18:53.266392"
   ]
  },
  {
   "cell_type": "code",
   "execution_count": 33,
   "metadata": {},
   "outputs": [
    {
     "name": "stdout",
     "output_type": "stream",
     "text": [
      "Starting Harvest of https://trellis.stage.sinopia.io/repository at 2019-08-28 18:50:24.315447\n",
      "Institution URI https://trellis.stage.sinopia.io/repository/northwestern\n",
      "..Finished with 1\n",
      "Institution URI https://trellis.stage.sinopia.io/repository/duke\n",
      "Finished with 1\n",
      "Institution URI https://trellis.stage.sinopia.io/repository/princeton\n",
      ".......Finished with 6\n",
      "Institution URI https://trellis.stage.sinopia.io/repository/dlc\n",
      "Finished with 6\n",
      "Institution URI https://trellis.stage.sinopia.io/repository/frick\n",
      ".Finished with 0\n",
      "Institution URI https://trellis.stage.sinopia.io/repository/nlm\n",
      ".Finished with 0\n",
      "Institution URI https://trellis.stage.sinopia.io/repository/michigan\n",
      "..Finished with 1\n",
      "Institution URI https://trellis.stage.sinopia.io/repository/alberta\n",
      "..Finished with 1\n",
      "Institution URI https://trellis.stage.sinopia.io/repository/boulder\n",
      ".Finished with 0\n",
      "Institution URI https://trellis.stage.sinopia.io/repository/cornell\n",
      "......Finished with 5\n",
      "Institution URI https://trellis.stage.sinopia.io/repository/chicago\n",
      "Finished with 5\n",
      "Institution URI https://trellis.stage.sinopia.io/repository/harvard\n",
      "...............Finished with 14\n",
      "Institution URI https://trellis.stage.sinopia.io/repository/pcc\n",
      "..Finished with 1\n",
      "Institution URI https://trellis.stage.sinopia.io/repository/washington\n",
      "..Finished with 1\n",
      "Institution URI https://trellis.stage.sinopia.io/repository/ucdavis\n",
      "....Finished with 3\n",
      "Institution URI https://trellis.stage.sinopia.io/repository/yale\n",
      "..Finished with 1\n",
      "Institution URI https://trellis.stage.sinopia.io/repository/tamu\n",
      "..Finished with 1\n",
      "Institution URI https://trellis.stage.sinopia.io/repository/penn\n",
      ".Finished with 0\n",
      "Institution URI https://trellis.stage.sinopia.io/repository/hrc\n",
      ".Finished with 0\n",
      "Institution URI https://trellis.stage.sinopia.io/repository/stanford\n",
      "........Finished with 7\n",
      "Institution URI https://trellis.stage.sinopia.io/repository/minnesota\n",
      "Finished with 7\n",
      "Institution URI https://trellis.stage.sinopia.io/repository/ucsd\n",
      "..Finished with 1\n",
      "Finished Harvesting at 2019-08-28 18:50:52.932632, total time: 28 seconds, \n",
      "    Test size 8\n",
      "    Training 53\n"
     ]
    },
    {
     "ename": "NameError",
     "evalue": "name 'resource_templates' is not defined",
     "output_type": "error",
     "traceback": [
      "\u001b[0;31m---------------------------------------------------------------------------\u001b[0m",
      "\u001b[0;31mNameError\u001b[0m                                 Traceback (most recent call last)",
      "\u001b[0;32m<ipython-input-33-95c9842dcefe>\u001b[0m in \u001b[0;36m<module>\u001b[0;34m\u001b[0m\n\u001b[0;32m----> 1\u001b[0;31m \u001b[0mtest\u001b[0m\u001b[0;34m,\u001b[0m \u001b[0mtraining\u001b[0m\u001b[0;34m,\u001b[0m \u001b[0mresource_templates\u001b[0m\u001b[0;34m,\u001b[0m \u001b[0mhome\u001b[0m \u001b[0;34m=\u001b[0m \u001b[0mharvest_trellis\u001b[0m\u001b[0;34m(\u001b[0m\u001b[0;34m)\u001b[0m\u001b[0;34m\u001b[0m\u001b[0m\n\u001b[0m",
      "\u001b[0;32m<ipython-input-31-a1481780ada7>\u001b[0m in \u001b[0;36mharvest_trellis\u001b[0;34m(trellis_url)\u001b[0m\n\u001b[1;32m     39\u001b[0m     Training {len(training)}\"\"\")\n\u001b[1;32m     40\u001b[0m \u001b[0;34m\u001b[0m\u001b[0m\n\u001b[0;32m---> 41\u001b[0;31m     \u001b[0;32mreturn\u001b[0m \u001b[0mtest\u001b[0m\u001b[0;34m,\u001b[0m \u001b[0mtraining\u001b[0m\u001b[0;34m,\u001b[0m \u001b[0mresource_templates\u001b[0m\u001b[0;34m,\u001b[0m \u001b[0mhome_graph\u001b[0m\u001b[0;34m\u001b[0m\u001b[0m\n\u001b[0m\u001b[1;32m     42\u001b[0m \u001b[0;34m\u001b[0m\u001b[0m\n",
      "\u001b[0;31mNameError\u001b[0m: name 'resource_templates' is not defined"
     ]
    }
   ],
   "source": [
    "test, training, resource_templates, home = harvest_trellis()"
   ]
  },
  {
   "cell_type": "code",
   "execution_count": 21,
   "metadata": {},
   "outputs": [
    {
     "data": {
      "text/plain": [
       "53"
      ]
     },
     "execution_count": 21,
     "metadata": {},
     "output_type": "execute_result"
    }
   ],
   "source": [
    "len(training)"
   ]
  },
  {
   "cell_type": "code",
   "execution_count": 24,
   "metadata": {},
   "outputs": [],
   "source": [
    "save_ttl(\"/Users/jpnelson/2019/sinopia-data\", \"train\", training)\n",
    "save_ttl(\"/Users/jpnelson/2019/sinopia-data\", \"test\", test)\n"
   ]
  },
  {
   "cell_type": "markdown",
   "metadata": {},
   "source": [
    "# RDF Sinopia Harvest\n",
    "## 2019-08-19 16:46:33.21902"
   ]
  },
  {
   "cell_type": "code",
   "execution_count": 48,
   "metadata": {},
   "outputs": [
    {
     "name": "stdout",
     "output_type": "stream",
     "text": [
      "https://trellis.stage.sinopia.io/repository/hrc\n",
      "https://trellis.stage.sinopia.io/repository/minnesota\n",
      "https://trellis.stage.sinopia.io/repository/penn\n",
      "https://trellis.stage.sinopia.io/repository/stanford\n",
      "https://trellis.stage.sinopia.io/repository/washington\n",
      "https://trellis.stage.sinopia.io/repository/frick\n",
      "https://trellis.stage.sinopia.io/repository/michigan\n",
      "https://trellis.stage.sinopia.io/repository/pcc\n",
      "https://trellis.stage.sinopia.io/repository/dlc\n",
      "https://trellis.stage.sinopia.io/repository/nlm\n",
      "https://trellis.stage.sinopia.io/repository/tamu\n",
      "https://trellis.stage.sinopia.io/repository/alberta\n",
      "https://trellis.stage.sinopia.io/repository/cornell\n",
      "https://trellis.stage.sinopia.io/repository/northwestern\n",
      "https://trellis.stage.sinopia.io/repository/chicago\n",
      "https://trellis.stage.sinopia.io/repository/ucsd\n",
      "https://trellis.stage.sinopia.io/repository/yale\n",
      "https://trellis.stage.sinopia.io/repository/princeton\n",
      "https://trellis.stage.sinopia.io/repository/ucdavis\n",
      "https://trellis.stage.sinopia.io/repository/harvard\n",
      "https://trellis.stage.sinopia.io/repository/boulder\n",
      "https://trellis.stage.sinopia.io/repository/duke\n"
     ]
    }
   ],
   "source": [
    "home_stage = requests.get('https://trellis.stage.sinopia.io/repository')\n",
    "home_stage_graph = rdflib.ConjunctiveGraph()\n",
    "home_stage_graph.parse(data=home_stage.text, format='turtle')\n",
    "rdf_resources = []\n",
    "test, training = [], []\n",
    "for o in home_stage_graph.objects(predicate=LDP.contains):\n",
    "    if str(o).endswith(\"ld4p\"):\n",
    "        continue\n",
    "    print(o)\n",
    "    group_result = requests.get(str(o))\n",
    "    group_graph = rdflib.ConjunctiveGraph()\n",
    "    group_graph.parse(data=group_result.text, format='turtle')\n",
    "    for resource_uri in group_graph.objects(predicate=rdflib.URIRef('http://www.w3.org/ns/ldp#contains')):\n",
    "        resource_result = requests.get(str(resource_uri))\n",
    "        output = resource_result.text\n",
    "        output = output.replace(\"<>\", f\"<{resource_uri}>\")\n",
    "        choice = random.random()\n",
    "        if choice <= .80:\n",
    "            test.append(output)\n",
    "        else:\n",
    "            training.append(output)\n",
    "        \n"
   ]
  },
  {
   "cell_type": "code",
   "execution_count": 44,
   "metadata": {},
   "outputs": [
    {
     "data": {
      "text/plain": [
       "9"
      ]
     },
     "execution_count": 44,
     "metadata": {},
     "output_type": "execute_result"
    }
   ],
   "source": [
    "len(training)"
   ]
  },
  {
   "cell_type": "code",
   "execution_count": 45,
   "metadata": {},
   "outputs": [
    {
     "data": {
      "text/plain": [
       "33"
      ]
     },
     "execution_count": 45,
     "metadata": {},
     "output_type": "execute_result"
    }
   ],
   "source": [
    "len(test)"
   ]
  },
  {
   "cell_type": "code",
   "execution_count": 49,
   "metadata": {},
   "outputs": [
    {
     "name": "stdout",
     "output_type": "stream",
     "text": [
      "@prefix schema:  <http://schema.org/> .\n",
      "@prefix owl:  <http://www.w3.org/2002/07/owl#> .\n",
      "@prefix xsd:  <http://www.w3.org/2001/XMLSchema#> .\n",
      "@prefix memento:  <http://mementoweb.org/ns#> .\n",
      "@prefix skos:  <http://www.w3.org/2004/02/skos/core#> .\n",
      "@prefix rdfs:  <http://www.w3.org/2000/01/rdf-schema#> .\n",
      "@prefix acl:  <http://www.w3.org/ns/auth/acl#> .\n",
      "@prefix geo:  <http://www.w3.org/2003/01/geo/wgs84_pos#> .\n",
      "@prefix dc11:  <http://purl.org/dc/elements/1.1/> .\n",
      "@prefix as:  <https://www.w3.org/ns/activitystreams#> .\n",
      "@prefix rdf:  <http://www.w3.org/1999/02/22-rdf-syntax-ns#> .\n",
      "@prefix ldp:  <http://www.w3.org/ns/ldp#> .\n",
      "@prefix time:  <http://www.w3.org/2006/time#> .\n",
      "@prefix prov:  <http://www.w3.org/ns/prov#> .\n",
      "@prefix dc:  <http://purl.org/dc/terms/> .\n",
      "\n",
      "_:b0    rdf:value  \"310724444444444\"@en ;\n",
      "        rdf:type   <http://id.loc.gov/ontologies/bibframe/Barcode> ;\n",
      "        <http://sinopia.io/vocabulary/hasResourceTemplate>  \"sinopia:resourceTemplate:bf2:Identifiers:Barcode\" .\n",
      "\n",
      "_:b1    rdf:value  \"ND553.C957 G37 2017\"@en ;\n",
      "        rdf:type   <http://id.loc.gov/ontologies/bibframe/ShelfMarkLcc> ;\n",
      "        <http://sinopia.io/vocabulary/hasResourceTemplate>  \"sinopia:resourceTemplate:bf2:Identifiers:LC\" .\n",
      "\n",
      "<https://trellis.stage.sinopia.io/repository/frick/21f2041b-ee67-4f03-8466-dae6489bee52>      rdf:type  <http://id.loc.gov/ontologies/bibframe/Item> ;\n",
      "        <http://sinopia.io/vocabulary/hasResourceTemplate>  \"Frick:RT:bf2:Monograph:Item\" ;\n",
      "        <http://id.loc.gov/ontologies/bibframe/sublocation>  \"FMB\"@en ;\n",
      "        <http://id.loc.gov/ontologies/bibframe/identifiedBy>  _:b1 ;\n",
      "        <http://id.loc.gov/ontologies/bibframe/heldBy>  <http://id.loc.gov/vocabulary/organizations/dlc> ;\n",
      "        <http://id.loc.gov/ontologies/bibframe/Barcode>  _:b0 .\n",
      "\n"
     ]
    }
   ],
   "source": [
    "print(training[1])"
   ]
  },
  {
   "cell_type": "code",
   "execution_count": null,
   "metadata": {},
   "outputs": [],
   "source": [
    "for i,row in enumerate(test):\n",
    "    with open(f\"/Users/jpnelson/2019/sinopia-data/2019/08/testing/{i:05d}.ttl\", \"w+\") as ttl:\n",
    "        ttl.write(row)"
   ]
  },
  {
   "cell_type": "code",
   "execution_count": null,
   "metadata": {},
   "outputs": [],
   "source": []
  }
 ],
 "metadata": {
  "kernelspec": {
   "display_name": "Python 3",
   "language": "python",
   "name": "python3"
  },
  "language_info": {
   "codemirror_mode": {
    "name": "ipython",
    "version": 3
   },
   "file_extension": ".py",
   "mimetype": "text/x-python",
   "name": "python",
   "nbconvert_exporter": "python",
   "pygments_lexer": "ipython3",
   "version": "3.8.1"
  }
 },
 "nbformat": 4,
 "nbformat_minor": 4
}
