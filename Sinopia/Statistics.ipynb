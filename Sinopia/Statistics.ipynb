{
 "cells": [
  {
   "cell_type": "code",
   "execution_count": 10,
   "metadata": {},
   "outputs": [],
   "source": [
    "import datetime\n",
    "import rdflib\n",
    "import requests\n",
    "LDP = rdflib.Namespace(\"http://www.w3.org/ns/ldp#\")"
   ]
  },
  {
   "cell_type": "code",
   "execution_count": 11,
   "metadata": {},
   "outputs": [],
   "source": [
    "def count_trellis(trellis_url = 'https://trellis.stage.sinopia.io/repository'):\n",
    "    start = datetime.datetime.utcnow()\n",
    "    count = 0\n",
    "    print(f\"Starting count of {trellis_url} at {start}\")\n",
    "    home = requests.get(trellis_url)\n",
    "    home_graph = rdflib.ConjunctiveGraph()\n",
    "    home_graph.parse(data=home.text, format='turtle')\n",
    "    for o in home_graph.objects(predicate=LDP.contains):\n",
    "        group_result = requests.get(str(o))\n",
    "        group_count = 0\n",
    "        print(f\"Group URI {o}\")\n",
    "        group_graph = rdflib.ConjunctiveGraph()\n",
    "        group_graph.parse(data=group_result.text, format='turtle')\n",
    "        for resource_uri in group_graph.objects(predicate=LDP.contains):\n",
    "            result = requests.head(str(resource_uri))\n",
    "            if result.status_code < 400:\n",
    "                group_count += 1\n",
    "            else:\n",
    "                print(f\"Error {resource_uri} - {result.status_code}\")\n",
    "        count += group_count\n",
    "        print(f\"Group {o} total {group_count}\")\n",
    "    end = datetime.datetime.utcnow()\n",
    "    print(f\"Finished at {end} total count {count}, total time {(end-start).seconds / 60.0} minutes\")\n",
    "            \n",
    "        \n",
    "    "
   ]
  },
  {
   "cell_type": "code",
   "execution_count": 12,
   "metadata": {},
   "outputs": [
    {
     "name": "stdout",
     "output_type": "stream",
     "text": [
      "Starting count of https://trellis.stage.sinopia.io/repository at 2020-04-20 19:59:58.024697\n",
      "Group URI https://trellis.stage.sinopia.io/repository/ucsd\n",
      "Group https://trellis.stage.sinopia.io/repository/ucsd total 150\n",
      "Group URI https://trellis.stage.sinopia.io/repository/hrc\n",
      "Group https://trellis.stage.sinopia.io/repository/hrc total 36\n",
      "Group URI https://trellis.stage.sinopia.io/repository/tamu\n",
      "Group https://trellis.stage.sinopia.io/repository/tamu total 50\n",
      "Group URI https://trellis.stage.sinopia.io/repository/minnesota\n",
      "Group https://trellis.stage.sinopia.io/repository/minnesota total 107\n",
      "Group URI https://trellis.stage.sinopia.io/repository/princeton\n",
      "Group https://trellis.stage.sinopia.io/repository/princeton total 14\n",
      "Group URI https://trellis.stage.sinopia.io/repository/alberta\n",
      "Group https://trellis.stage.sinopia.io/repository/alberta total 75\n",
      "Group URI https://trellis.stage.sinopia.io/repository/frick\n",
      "Group https://trellis.stage.sinopia.io/repository/frick total 579\n",
      "Group URI https://trellis.stage.sinopia.io/repository/harvard\n",
      "Group https://trellis.stage.sinopia.io/repository/harvard total 68\n",
      "Group URI https://trellis.stage.sinopia.io/repository/ucdavis\n",
      "Group https://trellis.stage.sinopia.io/repository/ucdavis total 60\n",
      "Group URI https://trellis.stage.sinopia.io/repository/northwestern\n",
      "Group https://trellis.stage.sinopia.io/repository/northwestern total 6\n",
      "Group URI https://trellis.stage.sinopia.io/repository/pcc\n",
      "Group https://trellis.stage.sinopia.io/repository/pcc total 18\n",
      "Group URI https://trellis.stage.sinopia.io/repository/dlc\n",
      "Group https://trellis.stage.sinopia.io/repository/dlc total 4\n",
      "Group URI https://trellis.stage.sinopia.io/repository/duke\n",
      "Group https://trellis.stage.sinopia.io/repository/duke total 7\n",
      "Group URI https://trellis.stage.sinopia.io/repository/nlm\n",
      "Group https://trellis.stage.sinopia.io/repository/nlm total 145\n",
      "Group URI https://trellis.stage.sinopia.io/repository/washington\n",
      "Group https://trellis.stage.sinopia.io/repository/washington total 6\n",
      "Group URI https://trellis.stage.sinopia.io/repository/michigan\n",
      "Group https://trellis.stage.sinopia.io/repository/michigan total 3\n",
      "Group URI https://trellis.stage.sinopia.io/repository/stanford\n",
      "Group https://trellis.stage.sinopia.io/repository/stanford total 327\n",
      "Group URI https://trellis.stage.sinopia.io/repository/ld4p\n",
      "Error https://trellis.stage.sinopia.io/repository/ld4p/UNAM:RT:BF2:RetenciÃ³n - 404\n",
      "Group https://trellis.stage.sinopia.io/repository/ld4p total 1169\n",
      "Group URI https://trellis.stage.sinopia.io/repository/penn\n",
      "Group https://trellis.stage.sinopia.io/repository/penn total 69\n",
      "Group URI https://trellis.stage.sinopia.io/repository/cornell\n",
      "Group https://trellis.stage.sinopia.io/repository/cornell total 41\n",
      "Group URI https://trellis.stage.sinopia.io/repository/chicago\n",
      "Group https://trellis.stage.sinopia.io/repository/chicago total 76\n",
      "Group URI https://trellis.stage.sinopia.io/repository/yale\n",
      "Group https://trellis.stage.sinopia.io/repository/yale total 536\n",
      "Group URI https://trellis.stage.sinopia.io/repository/boulder\n",
      "Group https://trellis.stage.sinopia.io/repository/boulder total 29\n",
      "Finished at 2020-04-20 20:24:30.153839 total count 3575, total time 24.533333333333335 minutes\n"
     ]
    }
   ],
   "source": [
    "count_trellis()"
   ]
  },
  {
   "cell_type": "code",
   "execution_count": 14,
   "metadata": {},
   "outputs": [
    {
     "name": "stdout",
     "output_type": "stream",
     "text": [
      "Starting count of https://trellis.sinopia.io/repository at 2020-04-20 20:26:25.496579\n",
      "Group URI https://trellis.sinopia.io/repository/ucdavis\n",
      "Group https://trellis.sinopia.io/repository/ucdavis total 12\n",
      "Group URI https://trellis.sinopia.io/repository/princeton\n",
      "Group https://trellis.sinopia.io/repository/princeton total 36\n",
      "Group URI https://trellis.sinopia.io/repository/minnesota\n",
      "Group https://trellis.sinopia.io/repository/minnesota total 126\n",
      "Group URI https://trellis.sinopia.io/repository/penn\n",
      "Group https://trellis.sinopia.io/repository/penn total 1\n",
      "Group URI https://trellis.sinopia.io/repository/hrc\n",
      "Group https://trellis.sinopia.io/repository/hrc total 0\n",
      "Group URI https://trellis.sinopia.io/repository/ucsd\n",
      "Group https://trellis.sinopia.io/repository/ucsd total 0\n",
      "Group URI https://trellis.sinopia.io/repository/harvard\n",
      "Group https://trellis.sinopia.io/repository/harvard total 4\n",
      "Group URI https://trellis.sinopia.io/repository/cornell\n",
      "Group https://trellis.sinopia.io/repository/cornell total 52\n",
      "Group URI https://trellis.sinopia.io/repository/yale\n",
      "Group https://trellis.sinopia.io/repository/yale total 908\n",
      "Group URI https://trellis.sinopia.io/repository/dlc\n",
      "Group https://trellis.sinopia.io/repository/dlc total 2\n",
      "Group URI https://trellis.sinopia.io/repository/michigan\n",
      "Group https://trellis.sinopia.io/repository/michigan total 0\n",
      "Group URI https://trellis.sinopia.io/repository/frick\n",
      "Group https://trellis.sinopia.io/repository/frick total 0\n",
      "Group URI https://trellis.sinopia.io/repository/northwestern\n",
      "Group https://trellis.sinopia.io/repository/northwestern total 11\n",
      "Group URI https://trellis.sinopia.io/repository/ld4p\n",
      "Group https://trellis.sinopia.io/repository/ld4p total 709\n",
      "Group URI https://trellis.sinopia.io/repository/nlm\n",
      "Group https://trellis.sinopia.io/repository/nlm total 13\n",
      "Group URI https://trellis.sinopia.io/repository/duke\n",
      "Group https://trellis.sinopia.io/repository/duke total 1\n",
      "Group URI https://trellis.sinopia.io/repository/stanford\n",
      "Group https://trellis.sinopia.io/repository/stanford total 29\n",
      "Group URI https://trellis.sinopia.io/repository/alberta\n",
      "Group https://trellis.sinopia.io/repository/alberta total 229\n",
      "Group URI https://trellis.sinopia.io/repository/tamu\n",
      "Group https://trellis.sinopia.io/repository/tamu total 0\n",
      "Group URI https://trellis.sinopia.io/repository/pcc\n",
      "Group https://trellis.sinopia.io/repository/pcc total 7\n",
      "Group URI https://trellis.sinopia.io/repository/washington\n",
      "Group https://trellis.sinopia.io/repository/washington total 312\n",
      "Group URI https://trellis.sinopia.io/repository/boulder\n",
      "Group https://trellis.sinopia.io/repository/boulder total 2\n",
      "Group URI https://trellis.sinopia.io/repository/chicago\n",
      "Group https://trellis.sinopia.io/repository/chicago total 30\n",
      "Finished at 2020-04-20 20:43:30.802636 total count 2484, total time 17.083333333333332 minutes\n"
     ]
    }
   ],
   "source": [
    "count_trellis('https://trellis.sinopia.io/repository')"
   ]
  },
  {
   "cell_type": "code",
   "execution_count": 15,
   "metadata": {},
   "outputs": [
    {
     "data": {
      "text/plain": [
       "6059"
      ]
     },
     "execution_count": 15,
     "metadata": {},
     "output_type": "execute_result"
    }
   ],
   "source": [
    "2484+3575"
   ]
  },
  {
   "cell_type": "code",
   "execution_count": null,
   "metadata": {},
   "outputs": [],
   "source": []
  }
 ],
 "metadata": {
  "kernelspec": {
   "display_name": "Python 3",
   "language": "python",
   "name": "python3"
  },
  "language_info": {
   "codemirror_mode": {
    "name": "ipython",
    "version": 3
   },
   "file_extension": ".py",
   "mimetype": "text/x-python",
   "name": "python",
   "nbconvert_exporter": "python",
   "pygments_lexer": "ipython3",
   "version": "3.8.1"
  }
 },
 "nbformat": 4,
 "nbformat_minor": 4
}
