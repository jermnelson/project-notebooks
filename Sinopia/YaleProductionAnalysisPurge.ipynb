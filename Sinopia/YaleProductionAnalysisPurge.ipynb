{
 "cells": [
  {
   "cell_type": "code",
   "execution_count": 1,
   "metadata": {},
   "outputs": [
    {
     "name": "stdout",
     "output_type": "stream",
     "text": [
      "2020-01-31 22:03:25.167410\n"
     ]
    }
   ],
   "source": [
    "import datetime\n",
    "import rdflib\n",
    "import requests\n",
    "import threading\n",
    "now = datetime.datetime.utcnow()\n",
    "LDP = rdflib.Namespace(\"http://www.w3.org/ns/ldp#\")\n",
    "print(now)"
   ]
  },
  {
   "cell_type": "code",
   "execution_count": 2,
   "metadata": {},
   "outputs": [],
   "source": [
    "def get_sinopia_production():\n",
    "    start = datetime.datetime.utcnow()\n",
    "    print(f\"Started extracting Sinopia at {start}\")\n",
    "    repository_request = requests.get('https://trellis.sinopia.io/repository/')\n",
    "    repo_graph = rdflib.ConjunctiveGraph()\n",
    "    repo_graph.parse(data=repository_request.text, format='turtle')\n",
    "    resources = []\n",
    "    for group_uri in repo_graph.objects(predicate=LDP.contains):\n",
    "        if group_uri.endswith(\"ld4p\") or group_uri.endswith(\"yale\"):\n",
    "            continue\n",
    "        group_graph = get_group_graph(group_uri)\n",
    "        print(f\"{group_uri} finished with {len(group_graph)} triples.\")\n",
    "        resources.append(group_graph)\n",
    "    end = datetime.datetime.utcnow()\n",
    "    print(f\"Finished at {end}, total time {(end - start).seconds / 60.0} minutes.\")\n",
    "    return resources\n",
    "\n",
    "def get_group_graph(group_uri):\n",
    "    group_result = requests.get(group_uri)\n",
    "    group_graph = rdflib.ConjunctiveGraph()\n",
    "    group_graph.parse(data=group_result.text, format='turtle')\n",
    "    for resource_uri in group_graph.objects(predicate=LDP.contains):\n",
    "        resource_result = requests.get(str(resource_uri))\n",
    "        group_graph.parse(data=resource_result.text, format='turtle')\n",
    "    return group_graph\n",
    "\n",
    "def check_uri(yale_uri, group_graph):\n",
    "    query = f\"\"\"SELECT ?s WHERE {{ ?s ?p <{yale_uri}> }}\"\"\"\n",
    "    query_results = group_graph.query(query)\n",
    "    if len(query_results) > 0:\n",
    "        return True\n",
    "    return False\n",
    "\n",
    "def check_yale_uri(sinopia_graphs):\n",
    "    start = datetime.datetime.utcnow()\n",
    "    print(f\"Checking for Yale URIs used in non-Yale descriptions at {start}\")\n",
    "    home = requests.get('https://trellis.sinopia.io/repository/yale')\n",
    "    yale_graph = rdflib.ConjunctiveGraph()\n",
    "    yale_graph.parse(data=home.text, format='turtle')\n",
    "    clean = True\n",
    "    for obj in yale_graph.objects(predicate=LDP.contains):\n",
    "        for i, graph in enumerate(sinopia_graphs):\n",
    "            if check_uri(str(obj), graph) is True:\n",
    "                print(f\"{obj} is used as an object in {i}\")\n",
    "                clean = False\n",
    "    end = datetime.datetime.utcnow()\n",
    "    print(f\"Finished Yale URI check at {end}, total time {(end-start)} \")\n",
    "    \n",
    "def check_yale_graph(sinopia_graphs):\n",
    "    start = datetime.datetime.utcnow()\n",
    "    print(f\"Checking for Yale URIs used in non-Yale descriptions at {start}\")\n",
    "    print(f\"Combining {len(sinopia_graphs)} into a single graph\")\n",
    "    sinopia_graph = rdflib.ConjunctiveGraph()\n",
    "    print(f\"Combining {len(sinopia_graphs)} into a single graph, inital size {len(sinopia_graph)}\")\n",
    "    for graph in sinopia_graphs:\n",
    "        sinopia_graph += graph\n",
    "    print(f\"Finished sinopia graph has {len(sinopia_graph)} triples\")\n",
    "    home = requests.get('https://trellis.sinopia.io/repository/yale')\n",
    "    yale_graph = rdflib.ConjunctiveGraph()\n",
    "    yale_graph.parse(data=home.text, format='turtle')\n",
    "    for obj in yale_graph.objects(predicate=LDP.contains):\n",
    "        if check_uri(obj, sinopia_graph) is True:\n",
    "            print(f\"{obj} used as in another Sinopia description\")\n",
    "    \n",
    "    end = datetime.datetime.utcnow()\n",
    "    print(f\"Finished Yale URI full graph check at {end}, total time {(end-start)} \")   "
   ]
  },
  {
   "cell_type": "code",
   "execution_count": 4,
   "metadata": {},
   "outputs": [
    {
     "name": "stdout",
     "output_type": "stream",
     "text": [
      "Started extracting Sinopia at 2020-01-31 22:03:43.094074\n",
      "https://trellis.sinopia.io/repository/ucsd finished with 1 triples.\n",
      "https://trellis.sinopia.io/repository/penn finished with 17 triples.\n",
      "https://trellis.sinopia.io/repository/frick finished with 1 triples.\n",
      "https://trellis.sinopia.io/repository/hrc finished with 1 triples.\n",
      "https://trellis.sinopia.io/repository/stanford finished with 17 triples.\n",
      "https://trellis.sinopia.io/repository/dlc finished with 14 triples.\n",
      "https://trellis.sinopia.io/repository/chicago finished with 229 triples.\n",
      "https://trellis.sinopia.io/repository/duke finished with 17 triples.\n",
      "https://trellis.sinopia.io/repository/princeton finished with 280 triples.\n",
      "https://trellis.sinopia.io/repository/harvard finished with 94 triples.\n",
      "https://trellis.sinopia.io/repository/washington finished with 4084 triples.\n",
      "https://trellis.sinopia.io/repository/alberta finished with 1813 triples.\n",
      "https://trellis.sinopia.io/repository/minnesota finished with 504 triples.\n",
      "https://trellis.sinopia.io/repository/tamu finished with 1 triples.\n",
      "https://trellis.sinopia.io/repository/nlm finished with 1 triples.\n",
      "https://trellis.sinopia.io/repository/michigan finished with 1 triples.\n",
      "https://trellis.sinopia.io/repository/ucdavis finished with 756 triples.\n",
      "https://trellis.sinopia.io/repository/cornell finished with 1506 triples.\n",
      "https://trellis.sinopia.io/repository/pcc finished with 113 triples.\n",
      "https://trellis.sinopia.io/repository/northwestern finished with 1 triples.\n",
      "https://trellis.sinopia.io/repository/boulder finished with 1 triples.\n",
      "Finished at 2020-01-31 22:05:44.023832, total time 2.0 minutes.\n"
     ]
    }
   ],
   "source": [
    "sinopia_graphs = get_sinopia_production()"
   ]
  },
  {
   "cell_type": "code",
   "execution_count": 7,
   "metadata": {},
   "outputs": [
    {
     "name": "stdout",
     "output_type": "stream",
     "text": [
      "Checking for Yale URIs used in non-Yale descriptions at 2020-01-31 22:25:01.360692\n",
      "Finished Yale URI check at 2020-01-31 22:25:02.008417, total time 0:00:00.647725 \n"
     ]
    }
   ],
   "source": [
    "check_yale_uri(sinopia_graphs)"
   ]
  },
  {
   "cell_type": "code",
   "execution_count": 8,
   "metadata": {},
   "outputs": [
    {
     "name": "stdout",
     "output_type": "stream",
     "text": [
      "Checking for Yale URIs used in non-Yale descriptions at 2020-01-31 22:25:05.569016\n",
      "Combining 21 into a single graph\n",
      "Combining 21 into a single graph, inital size 0\n",
      "Finished sinopia graph has 9357 triples\n",
      "Finished Yale URI full graph check at 2020-01-31 22:25:06.199911, total time 0:00:00.630895 \n"
     ]
    }
   ],
   "source": [
    "check_yale_graph(sinopia_graphs)"
   ]
  },
  {
   "cell_type": "markdown",
   "metadata": {},
   "source": [
    "## Delete all Yale resource in production"
   ]
  },
  {
   "cell_type": "code",
   "execution_count": 9,
   "metadata": {},
   "outputs": [],
   "source": [
    "with open(\"/Users/jpnelson/2020/ld4p/sinopia_acl/.cognitoToken\") as fo:\n",
    "    cognitoToken = fo.read()\n",
    "\n",
    "headers = { \n",
    "    \"Authorization\": f\"Bearer {cognitoToken}\"\n",
    "}"
   ]
  },
  {
   "cell_type": "code",
   "execution_count": 10,
   "metadata": {},
   "outputs": [
    {
     "data": {
      "text/plain": [
       "<Graph identifier=Naf9ca2a5dab04bc7a911747b7d9413b7 (<class 'rdflib.graph.Graph'>)>"
      ]
     },
     "execution_count": 10,
     "metadata": {},
     "output_type": "execute_result"
    }
   ],
   "source": [
    "yale_home = requests.get('https://trellis.sinopia.io/repository/yale')\n",
    "yale_graph = rdflib.Graph()\n",
    "yale_graph.parse(data=yale_home.text, format='turtle')"
   ]
  },
  {
   "cell_type": "code",
   "execution_count": 12,
   "metadata": {},
   "outputs": [
    {
     "name": "stdout",
     "output_type": "stream",
     "text": [
      "204\n",
      "204\n",
      "204\n",
      "204\n",
      "204\n",
      "204\n",
      "204\n",
      "204\n",
      "204\n",
      "204\n"
     ]
    }
   ],
   "source": [
    "for row in yale_graph.objects(predicate=LDP.contains):\n",
    "    delete_result = requests.delete(str(row), headers=headers)\n",
    "    print(delete_result.status_code)"
   ]
  },
  {
   "cell_type": "code",
   "execution_count": 14,
   "metadata": {},
   "outputs": [
    {
     "name": "stdout",
     "output_type": "stream",
     "text": [
      "*  https://trellis.sinopia.io/repository/yale/6c25143b-1100-4776-b0e0-5762a26adb54\n",
      "*  https://trellis.sinopia.io/repository/yale/f91816ee-75ab-4b65-9805-9ea7300eb602\n",
      "*  https://trellis.sinopia.io/repository/yale/96a2c97d-a26f-4226-8306-e1b37918e623\n",
      "*  https://trellis.sinopia.io/repository/yale/71d36fdf-0d78-4f01-adfc-2aab6b709d0d\n",
      "*  https://trellis.sinopia.io/repository/yale/57244fa2-caa9-484f-b00d-6a8ebf89f872\n",
      "*  https://trellis.sinopia.io/repository/yale/174fbdc2-baaf-480a-8a14-8bb57ec4919a\n",
      "*  https://trellis.sinopia.io/repository/yale/23f1ae25-1b95-4f16-8437-bd87a11eb5d6\n",
      "*  https://trellis.sinopia.io/repository/yale/202d10f1-3fc5-45a2-a2d0-28fa5e7b60d1\n",
      "*  https://trellis.sinopia.io/repository/yale/de8545b9-63d1-4d89-b140-7f4340df096d\n",
      "*  https://trellis.sinopia.io/repository/yale/2138cd11-fe01-44f8-aa9b-c489bc87dd60\n"
     ]
    }
   ],
   "source": [
    "for row in yale_graph.objects(predicate=LDP.contains):\n",
    "    print(f\"*  {row}\")"
   ]
  },
  {
   "cell_type": "code",
   "execution_count": null,
   "metadata": {},
   "outputs": [],
   "source": []
  }
 ],
 "metadata": {
  "kernelspec": {
   "display_name": "Python 3",
   "language": "python",
   "name": "python3"
  },
  "language_info": {
   "codemirror_mode": {
    "name": "ipython",
    "version": 3
   },
   "file_extension": ".py",
   "mimetype": "text/x-python",
   "name": "python",
   "nbconvert_exporter": "python",
   "pygments_lexer": "ipython3",
   "version": "3.8.1"
  }
 },
 "nbformat": 4,
 "nbformat_minor": 4
}
