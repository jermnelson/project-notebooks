{
 "cells": [
  {
   "cell_type": "markdown",
   "metadata": {},
   "source": [
    "# Preservation Catalog \n",
    "## Investigation for Issue 1397\n",
    "\n",
    "Druid [zx284xc2961]() as described in [1397](https://github.com/sul-dlss/preservation_catalog/issues/1397) has a `-rw-r--r-- 1 pres pres 12288 Jul  8  2019 .versionMetadata.xml.swp` file that looks like the pattern for a vi or vim (both of them are installed on the production VM) backup swap file in **VERSION 0004** for this druid in `/services-disk10/sdr2objects/zx/284/xc/2961/zx284xc2961/v0004/data/metadata` directory. My initial guess is that version 0004 was a test version and that the `versionMetadata.xml` was open in either *vi* or *vim* and the swa\n",
    "\n",
    "The next version 0005 is the lastest version on the cloud backups. \n",
    "\n",
    "![](argo-screen-shot_2020-03-02_1.37.42PM.png)"
   ]
  },
  {
   "cell_type": "code",
   "execution_count": 2,
   "metadata": {},
   "outputs": [],
   "source": [
    "zip_parts =  [[\"zx284xc2961\", 5, 3, \"aws_s3_west_2\", \"ok\"],\n",
    " [\"zx284xc2961\", 5, 1, \"aws_s3_west_2\", \"ok\"],\n",
    " [\"zx284xc2961\", 5, 2, \"aws_s3_west_2\", \"ok\"],\n",
    " [\"zx284xc2961\", 5, 1, \"ibm_us_south\", \"ok\"],\n",
    " [\"zx284xc2961\", 5, 2, \"ibm_us_south\", \"ok\"],\n",
    " [\"zx284xc2961\", 5, 3, \"ibm_us_south\", \"ok\"],\n",
    " [\"zx284xc2961\", 5, 4, \"aws_s3_west_2\", \"ok\"],\n",
    " [\"zx284xc2961\", 5, 4, \"ibm_us_south\", \"ok\"],\n",
    " [\"zx284xc2961\", 5, 5, \"aws_s3_west_2\", \"ok\"],\n",
    " [\"zx284xc2961\", 5, 5, \"ibm_us_south\", \"ok\"],\n",
    " [\"zx284xc2961\", 5, 1, \"aws_s3_east_1\", \"ok\"],\n",
    " [\"zx284xc2961\", 5, 2, \"aws_s3_east_1\", \"ok\"]]"
   ]
  },
  {
   "cell_type": "code",
   "execution_count": 4,
   "metadata": {},
   "outputs": [
    {
     "name": "stdout",
     "output_type": "stream",
     "text": [
      "<generator object <genexpr> at 0x10aac10b0>\n"
     ]
    }
   ],
   "source": [
    "print(i for i in range(0, 9))"
   ]
  },
  {
   "cell_type": "code",
   "execution_count": 7,
   "metadata": {},
   "outputs": [
    {
     "name": "stdout",
     "output_type": "stream",
     "text": [
      "0\n",
      "1\n",
      "2\n",
      "3\n",
      "4\n",
      "5\n",
      "6\n",
      "7\n",
      "8\n",
      "9\n"
     ]
    }
   ],
   "source": [
    "for i in range(0, 10):\n",
    "    print(i)"
   ]
  },
  {
   "cell_type": "code",
   "execution_count": 9,
   "metadata": {},
   "outputs": [
    {
     "ename": "ImportError",
     "evalue": "cannot import name 'reveal_type' from 'typing' (/Library/Frameworks/Python.framework/Versions/3.8/lib/python3.8/typing.py)",
     "output_type": "error",
     "traceback": [
      "\u001b[0;31m---------------------------------------------------------------------------\u001b[0m",
      "\u001b[0;31mImportError\u001b[0m                               Traceback (most recent call last)",
      "\u001b[0;32m<ipython-input-9-8b3fbfd17d3c>\u001b[0m in \u001b[0;36m<module>\u001b[0;34m\u001b[0m\n\u001b[0;32m----> 1\u001b[0;31m \u001b[0;32mfrom\u001b[0m \u001b[0mtyping\u001b[0m \u001b[0;32mimport\u001b[0m \u001b[0mreveal_type\u001b[0m\u001b[0;34m\u001b[0m\u001b[0;34m\u001b[0m\u001b[0m\n\u001b[0m\u001b[1;32m      2\u001b[0m \u001b[0mreveal_type\u001b[0m\u001b[0;34m(\u001b[0m\u001b[0;36m1\u001b[0m\u001b[0;34m)\u001b[0m\u001b[0;34m\u001b[0m\u001b[0;34m\u001b[0m\u001b[0m\n",
      "\u001b[0;31mImportError\u001b[0m: cannot import name 'reveal_type' from 'typing' (/Library/Frameworks/Python.framework/Versions/3.8/lib/python3.8/typing.py)"
     ]
    }
   ],
   "source": [
    "from typing import reveal_type\n",
    "reveal_type(1)"
   ]
  },
  {
   "cell_type": "code",
   "execution_count": 10,
   "metadata": {},
   "outputs": [],
   "source": [
    "import pathlib"
   ]
  },
  {
   "cell_type": "code",
   "execution_count": 12,
   "metadata": {},
   "outputs": [],
   "source": [
    "ai = pathlib.Path('/Users/jpnelson/2020/jerms-writing/data/train/合/')"
   ]
  },
  {
   "cell_type": "code",
   "execution_count": 13,
   "metadata": {},
   "outputs": [
    {
     "data": {
      "text/plain": [
       "PosixPath('/Users/jpnelson/2020/jerms-writing/data/train/合')"
      ]
     },
     "execution_count": 13,
     "metadata": {},
     "output_type": "execute_result"
    }
   ],
   "source": [
    "ai"
   ]
  },
  {
   "cell_type": "code",
   "execution_count": 14,
   "metadata": {},
   "outputs": [],
   "source": [
    "train_dir = pathlib.Path('/Users/jpnelson/2020/jerms-writing/data/train')\n",
    "ai = train_dir.glob(\"合/*\")"
   ]
  },
  {
   "cell_type": "code",
   "execution_count": 15,
   "metadata": {},
   "outputs": [
    {
     "data": {
      "text/plain": [
       "<generator object Path.glob at 0x10d3ba4a0>"
      ]
     },
     "execution_count": 15,
     "metadata": {},
     "output_type": "execute_result"
    }
   ],
   "source": [
    "ai"
   ]
  },
  {
   "cell_type": "code",
   "execution_count": 16,
   "metadata": {},
   "outputs": [
    {
     "name": "stdout",
     "output_type": "stream",
     "text": [
      "/Users/jpnelson/2020/jerms-writing/data/train/合/8.png\n",
      "/Users/jpnelson/2020/jerms-writing/data/train/合/9.png\n",
      "/Users/jpnelson/2020/jerms-writing/data/train/合/4.png\n",
      "/Users/jpnelson/2020/jerms-writing/data/train/合/5.png\n",
      "/Users/jpnelson/2020/jerms-writing/data/train/合/7.png\n",
      "/Users/jpnelson/2020/jerms-writing/data/train/合/6.png\n",
      "/Users/jpnelson/2020/jerms-writing/data/train/合/2.png\n",
      "/Users/jpnelson/2020/jerms-writing/data/train/合/3.png\n",
      "/Users/jpnelson/2020/jerms-writing/data/train/合/1.png\n"
     ]
    }
   ],
   "source": [
    "for row in ai:\n",
    "    print(row)"
   ]
  },
  {
   "cell_type": "code",
   "execution_count": null,
   "metadata": {},
   "outputs": [],
   "source": []
  }
 ],
 "metadata": {
  "kernelspec": {
   "display_name": "Python 3",
   "language": "python",
   "name": "python3"
  },
  "language_info": {
   "codemirror_mode": {
    "name": "ipython",
    "version": 3
   },
   "file_extension": ".py",
   "mimetype": "text/x-python",
   "name": "python",
   "nbconvert_exporter": "python",
   "pygments_lexer": "ipython3",
   "version": "3.8.1"
  }
 },
 "nbformat": 4,
 "nbformat_minor": 4
}
