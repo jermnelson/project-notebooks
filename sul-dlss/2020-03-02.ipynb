{
 "cells": [
  {
   "cell_type": "markdown",
   "metadata": {},
   "source": [
    "# Preservation Catalog \n",
    "## Investigation for Issue 1397\n",
    "\n",
    "Druid [zx284xc2961]() as described in [1397](https://github.com/sul-dlss/preservation_catalog/issues/1397) has a `-rw-r--r-- 1 pres pres 12288 Jul  8  2019 .versionMetadata.xml.swp` file that looks like the pattern for a vi or vim (both of them are installed on the production VM) backup swap file in **VERSION 0004** for this druid in `/services-disk10/sdr2objects/zx/284/xc/2961/zx284xc2961/v0004/data/metadata` directory. My initial guess is that version 0004 was a test version and that the `versionMetadata.xml` was open in either *vi* or *vim* and the swa\n",
    "\n",
    "The next version 0005 is the lastest version on the cloud backups. \n",
    "\n",
    "![](argo-screen-shot_2020-03-02_1.37.42PM.png)"
   ]
  },
  {
   "cell_type": "code",
   "execution_count": 2,
   "metadata": {},
   "outputs": [],
   "source": [
    "zip_parts =  [[\"zx284xc2961\", 5, 3, \"aws_s3_west_2\", \"ok\"],\n",
    " [\"zx284xc2961\", 5, 1, \"aws_s3_west_2\", \"ok\"],\n",
    " [\"zx284xc2961\", 5, 2, \"aws_s3_west_2\", \"ok\"],\n",
    " [\"zx284xc2961\", 5, 1, \"ibm_us_south\", \"ok\"],\n",
    " [\"zx284xc2961\", 5, 2, \"ibm_us_south\", \"ok\"],\n",
    " [\"zx284xc2961\", 5, 3, \"ibm_us_south\", \"ok\"],\n",
    " [\"zx284xc2961\", 5, 4, \"aws_s3_west_2\", \"ok\"],\n",
    " [\"zx284xc2961\", 5, 4, \"ibm_us_south\", \"ok\"],\n",
    " [\"zx284xc2961\", 5, 5, \"aws_s3_west_2\", \"ok\"],\n",
    " [\"zx284xc2961\", 5, 5, \"ibm_us_south\", \"ok\"],\n",
    " [\"zx284xc2961\", 5, 1, \"aws_s3_east_1\", \"ok\"],\n",
    " [\"zx284xc2961\", 5, 2, \"aws_s3_east_1\", \"ok\"]]"
   ]
  },
  {
   "cell_type": "code",
   "execution_count": null,
   "metadata": {},
   "outputs": [],
   "source": []
  }
 ],
 "metadata": {
  "kernelspec": {
   "display_name": "Python 3",
   "language": "python",
   "name": "python3"
  },
  "language_info": {
   "codemirror_mode": {
    "name": "ipython",
    "version": 3
   },
   "file_extension": ".py",
   "mimetype": "text/x-python",
   "name": "python",
   "nbconvert_exporter": "python",
   "pygments_lexer": "ipython3",
   "version": "3.8.1"
  }
 },
 "nbformat": 4,
 "nbformat_minor": 4
}
