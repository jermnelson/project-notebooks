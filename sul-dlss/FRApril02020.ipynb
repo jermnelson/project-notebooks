{
 "cells": [
  {
   "cell_type": "markdown",
   "metadata": {},
   "source": [
    "# First Responder April 6 to April 10 2020"
   ]
  },
  {
   "cell_type": "code",
   "execution_count": 1,
   "metadata": {},
   "outputs": [],
   "source": [
    "%reload_ext autoreload\n",
    "%autoreload 2\n",
    "%matplotlib inline"
   ]
  },
  {
   "cell_type": "markdown",
   "metadata": {},
   "source": [
    "### Documentation\n",
    "-  [Infrastructure Dependencies](https://docs.google.com/spreadsheets/d/1LysSAPFsRGt9PteWpVswp74xnPXyLLxADpHRfh69VLQ/edit#gid=1050165333)\n",
    "-  [Infrastructure Priorities](https://docs.google.com/spreadsheets/d/10UmZVCvNoTOi3MzNhoUK72efxKUiXEQ7fcE5nsc6zRo/edit#gid=1325175414)\n",
    "-  [Developer's Playbook on FP](https://github.com/sul-dlss/DeveloperPlaybook/blob/master/infrateam_first_responder.md)"
   ]
  },
  {
   "cell_type": "markdown",
   "metadata": {},
   "source": [
    "## For Monday:\n",
    "\n",
    "-  [x] Check Google Books Production is on Monday Morning\n",
    "-  [x] Update Infrastructure Slack message for FP next week\n",
    "-  [x] Sinopia Profile Editor Dependencies and release to stage and production\n",
    "-  [x] Hydrus dependencies still unresolved (open issue) "
   ]
  },
  {
   "cell_type": "markdown",
   "metadata": {},
   "source": [
    "## First Responder Tasks\n",
    "\n",
    "- [x] Confirm all dependency updates have been merged and pushed to stage and production\n",
    "- [ ] Update Infrastructure Priority Spreadsheet\n",
    "  - [x] 04/06/2020\n",
    "  - [x] 04/07/2020\n",
    "  - [x] 04/08/2020\n",
    "  - [x] 04/09/2020\n",
    "  - [x] 04/10/2020\n",
    "- [x] First Responder Handoff"
   ]
  },
  {
   "cell_type": "markdown",
   "metadata": {},
   "source": [
    "## 06 April 2020\n",
    "\n",
    "Mike G.'s work https://app.honeybadger.io/projects/50568/faults/62402471 - paired and resolved, just a timing issue and did not require any manual remediation. "
   ]
  },
  {
   "cell_type": "markdown",
   "metadata": {},
   "source": [
    " Music https://angelicagarcia.bandcamp.com/album/cha-cha-palace"
   ]
  },
  {
   "cell_type": "markdown",
   "metadata": {},
   "source": [
    "## 08 April 2020\n",
    "\n",
    "Paired wth Justin Coyne and Mike G. learned the following:\n",
    "\n",
    "`cap -T` to display all of the available tasks related to [Capistrano](https://capistranorb.com/) in a repo. \n",
    "\n",
    "`"
   ]
  },
  {
   "cell_type": "markdown",
   "metadata": {},
   "source": [
    "## 09 April 2020"
   ]
  },
  {
   "cell_type": "markdown",
   "metadata": {},
   "source": [
    "# First Responder 27 April 2020 to 1 May 2020"
   ]
  },
  {
   "cell_type": "markdown",
   "metadata": {},
   "source": [
    "## For Monday\n",
    "-  [x] Update Infrastructure Slack message for FP next week\n",
    "-  [x] Sinopia Profile Editor Dependencies\n",
    "-  [x] Preservation Catalog Green Light for Dependencies updates"
   ]
  },
  {
   "cell_type": "code",
   "execution_count": null,
   "metadata": {},
   "outputs": [],
   "source": [
    "## For Tuesday\n",
    "- [ ] Confifm"
   ]
  }
 ],
 "metadata": {
  "kernelspec": {
   "display_name": "Python 3",
   "language": "python",
   "name": "python3"
  },
  "language_info": {
   "codemirror_mode": {
    "name": "ipython",
    "version": 3
   },
   "file_extension": ".py",
   "mimetype": "text/x-python",
   "name": "python",
   "nbconvert_exporter": "python",
   "pygments_lexer": "ipython3",
   "version": "3.8.1"
  }
 },
 "nbformat": 4,
 "nbformat_minor": 4
}
