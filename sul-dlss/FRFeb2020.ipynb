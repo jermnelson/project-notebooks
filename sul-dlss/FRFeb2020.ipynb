{
 "cells": [
  {
   "cell_type": "markdown",
   "metadata": {},
   "source": [
    "# First Responder\n",
    "## 18 February 2020 to 21 February 2020"
   ]
  },
  {
   "cell_type": "markdown",
   "metadata": {},
   "source": [
    "### Documentation\n",
    "-  [Infrastructure Dependencies](https://docs.google.com/spreadsheets/d/1LysSAPFsRGt9PteWpVswp74xnPXyLLxADpHRfh69VLQ/edit#gid=1050165333)\n",
    "-  [Infrastructure Priorities](https://docs.google.com/spreadsheets/d/10UmZVCvNoTOi3MzNhoUK72efxKUiXEQ7fcE5nsc6zRo/edit#gid=1325175414)\n",
    "-  [Developer's Playbook on FP](https://github.com/sul-dlss/DeveloperPlaybook/blob/master/infrateam_first_responder.md)"
   ]
  },
  {
   "cell_type": "markdown",
   "metadata": {},
   "source": [
    "Checklist\n",
    "\n",
    "- [x] Confirm all dependency updates have been merged and pushed to stage and production\n",
    "- [x] PR on Argo DevOpsDoc\n",
    "- [x] Update Infrastructure Priority Spreadsheet\n",
    "  - [x] 02/18/2020\n",
    "  - [x] 02/19/2020\n",
    "  - [x] 02/20/2020\n",
    "  - [x] 02/21/2020\n",
    "- [x] First Responder Handoff"
   ]
  },
  {
   "cell_type": "markdown",
   "metadata": {},
   "source": [
    "## Preservation Catalog Stage -- Missing Postgres password\n",
    "\n",
    "https://app.honeybadger.io/projects/54415/faults/60798154 - Slacked Rob the following message\n",
    "\n",
    "*Hi Rob, as First Responder this week, I've been tracking down the following preservation catalog error in Honeybadger: https://app.honeybadger.io/projects/54415/faults/60798154. When I ssh into the stage and production, and look at the config/database.yml files in both environments, the production yml file contains a password and stage does not. Both files have a comment at the top that the file is maintained in puppet but I'm not sure where in puppet this file is being generated. Do you know where I should look for this value? Thanks!*"
   ]
  },
  {
   "cell_type": "markdown",
   "metadata": {},
   "source": [
    "## Argo\n",
    "\n",
    "For [druid:bf147yb4698](https://argo.stanford.edu/view/druid:bf147yb4698) causing multiple errors in Honeybager because this object missing sourceID, Andrew resolved by contacting the map group and added it."
   ]
  },
  {
   "cell_type": "markdown",
   "metadata": {},
   "source": [
    "## Common Accessioning \n",
    "This Honey Badger error https://app.honeybadger.io/projects/52894/faults/61042616, looks like the moab-versioning gem is not installed but not sure the best approach "
   ]
  },
  {
   "cell_type": "code",
   "execution_count": null,
   "metadata": {},
   "outputs": [],
   "source": []
  }
 ],
 "metadata": {
  "kernelspec": {
   "display_name": "Python 3",
   "language": "python",
   "name": "python3"
  },
  "language_info": {
   "codemirror_mode": {
    "name": "ipython",
    "version": 3
   },
   "file_extension": ".py",
   "mimetype": "text/x-python",
   "name": "python",
   "nbconvert_exporter": "python",
   "pygments_lexer": "ipython3",
   "version": "3.8.1"
  }
 },
 "nbformat": 4,
 "nbformat_minor": 4
}
