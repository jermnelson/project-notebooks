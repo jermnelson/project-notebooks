{
 "cells": [
  {
   "cell_type": "markdown",
   "metadata": {},
   "source": [
    "# Infrastructure"
   ]
  },
  {
   "cell_type": "markdown",
   "metadata": {},
   "source": [
    "## Update Dependencies \n",
    "\n",
    "1.  Check circle-CI for build\n",
    "1.  Merge into master\n",
    "1.  Connect to Stanford VPN\n",
    "1.  `kinit` command\n",
    "1.  Pull latest `git pull origin master`\n",
    "1.  Run `bundle install`\n",
    "1.  Deploy to stage `cap stage deploy`, hit enter to accept default of **master** branch\n",
    "1.  Make sure build is successful\n",
    "1.  Deploy to production `cap prod deploy`,  hit enter to accept default of **master** branch\n",
    "1.  Monitor build"
   ]
  },
  {
   "cell_type": "markdown",
   "metadata": {},
   "source": [
    "## SSH into stage and production servers\n",
    "To log into a stage or production server (like `google-books-stage.stanford.edu`) use one of these methods:\n",
    "1.  Use `cap stage ssh` from local repository\n",
    "1.  Look up the username (in puppet or just in `config/deploy/stage.rb` locally) and `ssh {THE_USERNAME_YOU_LOOKED_UP}@google-books-stage.stanford.edu`\n",
    "1.  Use ~/.ssh/config to maintain a mapping of box names to usernames and update it as you go.\n",
    "\n"
   ]
  },
  {
   "cell_type": "markdown",
   "metadata": {},
   "source": [
    "## Run Rake tasks on servers\n",
    "Make sure the correct Rails environment is enabled, either `RAILS_ENV=production bundle install` or `RAILS_ENV=production bundle exec rake {command}`. Can also set using `export RAILS_ENV=production`. "
   ]
  },
  {
   "cell_type": "code",
   "execution_count": null,
   "metadata": {},
   "outputs": [],
   "source": []
  }
 ],
 "metadata": {
  "kernelspec": {
   "display_name": "Python 3",
   "language": "python",
   "name": "python3"
  },
  "language_info": {
   "codemirror_mode": {
    "name": "ipython",
    "version": 3
   },
   "file_extension": ".py",
   "mimetype": "text/x-python",
   "name": "python",
   "nbconvert_exporter": "python",
   "pygments_lexer": "ipython3",
   "version": "3.8.1"
  }
 },
 "nbformat": 4,
 "nbformat_minor": 4
}
